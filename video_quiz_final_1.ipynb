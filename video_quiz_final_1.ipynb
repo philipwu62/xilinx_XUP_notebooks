{
 "cells": [
  {
   "cell_type": "markdown",
   "metadata": {},
   "source": [
    "## PYNQ Quiz \n",
    "Thank you for watching our Xilinx Sponsor Workshop video on PYNQ! Below is a short quiz and [Additional Information](#Additional-Information) that will give a little more context on what you learned in the video about the PYNQ platform.\n"
   ]
  },
  {
   "cell_type": "markdown",
   "metadata": {},
   "source": [
    "## Short quiz on FPGA technology and the PYNQ platform!"
   ]
  },
  {
   "cell_type": "code",
   "execution_count": 1,
   "metadata": {
    "jupyter": {},
    "scrolled": false
   },
   "outputs": [
    {
     "data": {
      "text/html": [
       "<pre style=\"white-space:pre;overflow-x:auto;line-height:normal;font-family:Menlo,'DejaVu Sans Mono',consolas,'Courier New',monospace\"><span style=\"font-weight: bold\">Let's begin the test</span>\n",
       "</pre>\n"
      ],
      "text/plain": [
       "<rich.jupyter.JupyterRenderable at 0x7f791d164990>"
      ]
     },
     "metadata": {},
     "output_type": "display_data"
    },
    {
     "data": {
      "text/markdown": [
       "### What languages does Jupyter support?"
      ],
      "text/plain": [
       "<IPython.core.display.Markdown object>"
      ]
     },
     "metadata": {},
     "output_type": "display_data"
    },
    {
     "data": {
      "application/vnd.jupyter.widget-view+json": {
       "model_id": "726e9b80294c40df9e1378140296df74",
       "version_major": 2,
       "version_minor": 0
      },
      "text/plain": [
       "VBox(children=(RadioButtons(description=' ', layout=Layout(width='max-content'), options=('C, Ruby, Python', '…"
      ]
     },
     "metadata": {},
     "output_type": "display_data"
    },
    {
     "data": {
      "text/markdown": [
       "### Fill in the blanks of these descriptions for Raspberry Pis, Arduinos, and FPGAs as discussed in the workshop presentation. \n",
       " 1. A(n) __ is deployed close to hardware, and can be useful for working with sensors and buttons. \n",
       " 2. A(n) __ runs an operating system (commonly Linux), and acts like a little computer.\n",
       " 3. A(n) __ needs its architecture defined by the user."
      ],
      "text/plain": [
       "<IPython.core.display.Markdown object>"
      ]
     },
     "metadata": {},
     "output_type": "display_data"
    },
    {
     "data": {
      "application/vnd.jupyter.widget-view+json": {
       "model_id": "24fc513b66ad49ccaa580ee03374ba2b",
       "version_major": 2,
       "version_minor": 0
      },
      "text/plain": [
       "VBox(children=(RadioButtons(description=' ', layout=Layout(width='max-content'), options=('FPGA, RPi, Arduino'…"
      ]
     },
     "metadata": {},
     "output_type": "display_data"
    },
    {
     "data": {
      "text/markdown": [
       "#### Refer to the following dropdown widget for more info on each platform!"
      ],
      "text/plain": [
       "<IPython.core.display.Markdown object>"
      ]
     },
     "metadata": {},
     "output_type": "display_data"
    },
    {
     "data": {
      "application/vnd.jupyter.widget-view+json": {
       "model_id": "0b86dc7909474cc5a504b4fd8196f86b",
       "version_major": 2,
       "version_minor": 0
      },
      "text/plain": [
       "interactive(children=(Dropdown(description='Platform', options=(('Arduino', 0), ('Raspberry Pi', 1), ('FPGA', …"
      ]
     },
     "metadata": {},
     "output_type": "display_data"
    },
    {
     "data": {
      "text/markdown": [
       "### Which of the following environments is meant to be used with PYNQ?"
      ],
      "text/plain": [
       "<IPython.core.display.Markdown object>"
      ]
     },
     "metadata": {},
     "output_type": "display_data"
    },
    {
     "data": {
      "application/vnd.jupyter.widget-view+json": {
       "model_id": "744e5bdd74864d3e9289ec3ae9787be5",
       "version_major": 2,
       "version_minor": 0
      },
      "text/plain": [
       "VBox(children=(RadioButtons(description=' ', layout=Layout(width='max-content'), options=('PyCharm', 'Jupyter …"
      ]
     },
     "metadata": {},
     "output_type": "display_data"
    },
    {
     "data": {
      "text/markdown": [
       "### What are the the steps to get started with a PYNQ board?"
      ],
      "text/plain": [
       "<IPython.core.display.Markdown object>"
      ]
     },
     "metadata": {},
     "output_type": "display_data"
    },
    {
     "data": {
      "application/vnd.jupyter.widget-view+json": {
       "model_id": "7429703e84834c4db2367b9760d88fb4",
       "version_major": 2,
       "version_minor": 0
      },
      "text/plain": [
       "VBox(children=(RadioButtons(description=' ', layout=Layout(width='max-content'), options=('Plug the board into…"
      ]
     },
     "metadata": {},
     "output_type": "display_data"
    },
    {
     "data": {
      "text/markdown": [
       "### What do nanometers associated with an FPGA indicate?"
      ],
      "text/plain": [
       "<IPython.core.display.Markdown object>"
      ]
     },
     "metadata": {},
     "output_type": "display_data"
    },
    {
     "data": {
      "application/vnd.jupyter.widget-view+json": {
       "model_id": "2d99d237d91149939e7e9f2f7a2d3565",
       "version_major": 2,
       "version_minor": 0
      },
      "text/plain": [
       "VBox(children=(RadioButtons(description=' ', layout=Layout(width='max-content'), options=('The size of the FPG…"
      ]
     },
     "metadata": {},
     "output_type": "display_data"
    },
    {
     "data": {
      "text/markdown": [
       "### Match these descriptions for FPGAs, (MP)SoCs, and ASICS \n",
       " 1. These are created for one specific purpose. They are expensive to develop and manufacture, but they are very fast and efficient. \n",
       " 2. An integrated circuit packaged with other components, like a processor or memory components.\n",
       " 3. These devices cannot be used without being programmed, but are flexible and relatively inexpensive to use. \n",
       " 4. An integrated circuit that is packaged with multiple processing cores."
      ],
      "text/plain": [
       "<IPython.core.display.Markdown object>"
      ]
     },
     "metadata": {},
     "output_type": "display_data"
    },
    {
     "data": {
      "application/vnd.jupyter.widget-view+json": {
       "model_id": "253657635e0e4e7d9f629f1c9a569c42",
       "version_major": 2,
       "version_minor": 0
      },
      "text/plain": [
       "VBox(children=(RadioButtons(description=' ', layout=Layout(width='max-content'), options=('ASIC, SoC, FPGA, MP…"
      ]
     },
     "metadata": {},
     "output_type": "display_data"
    },
    {
     "data": {
      "text/markdown": [
       "### What is the difference between Microprocessor and Microcontroller?"
      ],
      "text/plain": [
       "<IPython.core.display.Markdown object>"
      ]
     },
     "metadata": {},
     "output_type": "display_data"
    },
    {
     "data": {
      "application/vnd.jupyter.widget-view+json": {
       "model_id": "754eb5ba1bcf4b39b43acc22277acf08",
       "version_major": 2,
       "version_minor": 0
      },
      "text/plain": [
       "VBox(children=(RadioButtons(description=' ', layout=Layout(width='max-content'), options=('A  microprocessor i…"
      ]
     },
     "metadata": {},
     "output_type": "display_data"
    },
    {
     "data": {
      "text/markdown": [
       "### Label the image of the PYNQ board below with the correct connection name ###"
      ],
      "text/plain": [
       "<IPython.core.display.Markdown object>"
      ]
     },
     "metadata": {},
     "output_type": "display_data"
    },
    {
     "data": {
      "application/vnd.jupyter.widget-view+json": {
       "model_id": "be7c01c92c424d7fbd981f5929c458ed",
       "version_major": 2,
       "version_minor": 0
      },
      "text/plain": [
       "VBox(children=(RadioButtons(description=' ', layout=Layout(width='max-content'), options=('1.USB 2. SDcard 3. …"
      ]
     },
     "metadata": {},
     "output_type": "display_data"
    },
    {
     "data": {
      "application/vnd.jupyter.widget-view+json": {
       "model_id": "9209e4ccfc4747898ff9445c166f7617",
       "version_major": 2,
       "version_minor": 0
      },
      "text/plain": [
       "interactive(children=(Output(),), _dom_classes=('widget-interact',))"
      ]
     },
     "metadata": {},
     "output_type": "display_data"
    },
    {
     "data": {
      "text/markdown": [
       "### Label the image of the PYNQ board below with the appropriate interface name ###"
      ],
      "text/plain": [
       "<IPython.core.display.Markdown object>"
      ]
     },
     "metadata": {},
     "output_type": "display_data"
    },
    {
     "data": {
      "application/vnd.jupyter.widget-view+json": {
       "model_id": "6d81a78308d9422683d206c6bbb83a3e",
       "version_major": 2,
       "version_minor": 0
      },
      "text/plain": [
       "VBox(children=(RadioButtons(description=' ', layout=Layout(width='max-content'), options=('1. Raspberry Pi Int…"
      ]
     },
     "metadata": {},
     "output_type": "display_data"
    },
    {
     "data": {
      "application/vnd.jupyter.widget-view+json": {
       "model_id": "5364a659bbca4e55b24e02d7f981e9f3",
       "version_major": 2,
       "version_minor": 0
      },
      "text/plain": [
       "interactive(children=(Output(),), _dom_classes=('widget-interact',))"
      ]
     },
     "metadata": {},
     "output_type": "display_data"
    },
    {
     "data": {
      "text/markdown": [
       "### What does FPGA stand for?"
      ],
      "text/plain": [
       "<IPython.core.display.Markdown object>"
      ]
     },
     "metadata": {},
     "output_type": "display_data"
    },
    {
     "data": {
      "application/vnd.jupyter.widget-view+json": {
       "model_id": "a2972939abd64130b1b32b72ec994878",
       "version_major": 2,
       "version_minor": 0
      },
      "text/plain": [
       "VBox(children=(RadioButtons(description=' ', layout=Layout(width='max-content'), options=('First Program Gate …"
      ]
     },
     "metadata": {},
     "output_type": "display_data"
    },
    {
     "data": {
      "text/markdown": [
       "### Which command is used to install new PYNQ projects using hybrid packages?"
      ],
      "text/plain": [
       "<IPython.core.display.Markdown object>"
      ]
     },
     "metadata": {},
     "output_type": "display_data"
    },
    {
     "data": {
      "application/vnd.jupyter.widget-view+json": {
       "model_id": "a2ff2cd061b94cc59462da347e98a66b",
       "version_major": 2,
       "version_minor": 0
      },
      "text/plain": [
       "VBox(children=(RadioButtons(description=' ', layout=Layout(width='max-content'), options=('Conda install', 'PI…"
      ]
     },
     "metadata": {},
     "output_type": "display_data"
    },
    {
     "data": {
      "text/markdown": [
       "### What component on the board contains the PS/PL?"
      ],
      "text/plain": [
       "<IPython.core.display.Markdown object>"
      ]
     },
     "metadata": {},
     "output_type": "display_data"
    },
    {
     "data": {
      "application/vnd.jupyter.widget-view+json": {
       "model_id": "ae13da07ee8546e3b9318731ca51afc7",
       "version_major": 2,
       "version_minor": 0
      },
      "text/plain": [
       "VBox(children=(RadioButtons(description=' ', layout=Layout(width='max-content'), options=('ZYNQ 7020', 'XADC',…"
      ]
     },
     "metadata": {},
     "output_type": "display_data"
    },
    {
     "data": {
      "text/markdown": [
       "### What set of files are necessary to deploy a PYNQ system?"
      ],
      "text/plain": [
       "<IPython.core.display.Markdown object>"
      ]
     },
     "metadata": {},
     "output_type": "display_data"
    },
    {
     "data": {
      "application/vnd.jupyter.widget-view+json": {
       "model_id": "554188f5496449a5a0ee3019d35a9e28",
       "version_major": 2,
       "version_minor": 0
      },
      "text/plain": [
       "VBox(children=(RadioButtons(description=' ', layout=Layout(width='max-content'), options=('Bitstream (*.bit), …"
      ]
     },
     "metadata": {},
     "output_type": "display_data"
    },
    {
     "data": {
      "text/markdown": [
       "### True or false: PYNQ offers Arduino and Raspberry Pi interfaces"
      ],
      "text/plain": [
       "<IPython.core.display.Markdown object>"
      ]
     },
     "metadata": {},
     "output_type": "display_data"
    },
    {
     "data": {
      "application/vnd.jupyter.widget-view+json": {
       "model_id": "ff935783fd734029b9ee5d05d224132a",
       "version_major": 2,
       "version_minor": 0
      },
      "text/plain": [
       "VBox(children=(RadioButtons(description=' ', layout=Layout(width='max-content'), options=('TRUE', 'FALSE'), va…"
      ]
     },
     "metadata": {},
     "output_type": "display_data"
    },
    {
     "data": {
      "text/markdown": [
       "### What do you need to configure the logic circuit?"
      ],
      "text/plain": [
       "<IPython.core.display.Markdown object>"
      ]
     },
     "metadata": {},
     "output_type": "display_data"
    },
    {
     "data": {
      "application/vnd.jupyter.widget-view+json": {
       "model_id": "e2d4a1a5b2c84dff8c9b8940e31853e5",
       "version_major": 2,
       "version_minor": 0
      },
      "text/plain": [
       "VBox(children=(RadioButtons(description=' ', layout=Layout(width='max-content'), options=('Load/program the lo…"
      ]
     },
     "metadata": {},
     "output_type": "display_data"
    },
    {
     "data": {
      "text/markdown": [
       "### With PYNQ, hardware system designs are referred to as:"
      ],
      "text/plain": [
       "<IPython.core.display.Markdown object>"
      ]
     },
     "metadata": {},
     "output_type": "display_data"
    },
    {
     "data": {
      "application/vnd.jupyter.widget-view+json": {
       "model_id": "c72b780f2fdc4576abce59d577cc9d11",
       "version_major": 2,
       "version_minor": 0
      },
      "text/plain": [
       "VBox(children=(RadioButtons(description=' ', layout=Layout(width='max-content'), options=('APIs', 'Layers', 'N…"
      ]
     },
     "metadata": {},
     "output_type": "display_data"
    },
    {
     "data": {
      "text/markdown": [
       "### Which of these is not a hardware description language?"
      ],
      "text/plain": [
       "<IPython.core.display.Markdown object>"
      ]
     },
     "metadata": {},
     "output_type": "display_data"
    },
    {
     "data": {
      "application/vnd.jupyter.widget-view+json": {
       "model_id": "4597a04ee24f48998512d867c7470218",
       "version_major": 2,
       "version_minor": 0
      },
      "text/plain": [
       "VBox(children=(RadioButtons(description=' ', layout=Layout(width='max-content'), options=('Verilog', 'JHDL', '…"
      ]
     },
     "metadata": {},
     "output_type": "display_data"
    },
    {
     "data": {
      "text/markdown": [
       "### What is PYNQ?"
      ],
      "text/plain": [
       "<IPython.core.display.Markdown object>"
      ]
     },
     "metadata": {},
     "output_type": "display_data"
    },
    {
     "data": {
      "application/vnd.jupyter.widget-view+json": {
       "model_id": "fa24a34f4c1d499197151fce33a459f2",
       "version_major": 2,
       "version_minor": 0
      },
      "text/plain": [
       "VBox(children=(RadioButtons(description=' ', layout=Layout(width='max-content'), options=('A development board…"
      ]
     },
     "metadata": {},
     "output_type": "display_data"
    },
    {
     "data": {
      "text/markdown": [
       "### What does the Zynq system on a chip offer: select the appropriate options"
      ],
      "text/plain": [
       "<IPython.core.display.Markdown object>"
      ]
     },
     "metadata": {},
     "output_type": "display_data"
    },
    {
     "data": {
      "application/vnd.jupyter.widget-view+json": {
       "model_id": "18a8e119e399479bb5682c4bd396ee9f",
       "version_major": 2,
       "version_minor": 0
      },
      "text/plain": [
       "VBox(children=(RadioButtons(description=' ', layout=Layout(width='max-content'), options=('Arm Application mic…"
      ]
     },
     "metadata": {},
     "output_type": "display_data"
    },
    {
     "data": {
      "text/markdown": [
       "### Select the ZYNQ Applications:"
      ],
      "text/plain": [
       "<IPython.core.display.Markdown object>"
      ]
     },
     "metadata": {},
     "output_type": "display_data"
    },
    {
     "data": {
      "application/vnd.jupyter.widget-view+json": {
       "model_id": "faf4572d05a14fee88c901fc20fb08db",
       "version_major": 2,
       "version_minor": 0
      },
      "text/plain": [
       "VBox(children=(RadioButtons(description=' ', layout=Layout(width='max-content'), options=('Automotive driver a…"
      ]
     },
     "metadata": {},
     "output_type": "display_data"
    },
    {
     "data": {
      "text/markdown": [
       "### Vivado is used to create hardware designs. Which of these things can you create with Vivado to load onto your FPGA into order to configure the device?"
      ],
      "text/plain": [
       "<IPython.core.display.Markdown object>"
      ]
     },
     "metadata": {},
     "output_type": "display_data"
    },
    {
     "data": {
      "application/vnd.jupyter.widget-view+json": {
       "model_id": "9ccff58048cc448eaf8ede63278f4e91",
       "version_major": 2,
       "version_minor": 0
      },
      "text/plain": [
       "VBox(children=(RadioButtons(description=' ', layout=Layout(width='max-content'), options=('A .tcl script', 'An…"
      ]
     },
     "metadata": {},
     "output_type": "display_data"
    },
    {
     "data": {
      "text/markdown": [
       "### What does ASIC stand for?"
      ],
      "text/plain": [
       "<IPython.core.display.Markdown object>"
      ]
     },
     "metadata": {},
     "output_type": "display_data"
    },
    {
     "data": {
      "application/vnd.jupyter.widget-view+json": {
       "model_id": "0bb2abce31dd4215896774d4ee3c4f2e",
       "version_major": 2,
       "version_minor": 0
      },
      "text/plain": [
       "VBox(children=(RadioButtons(description=' ', layout=Layout(width='max-content'), options=('Advanced Speed Inte…"
      ]
     },
     "metadata": {},
     "output_type": "display_data"
    }
   ],
   "source": [
    "from lib import video_widg as vw\n",
    "import subprocess\n",
    "def install(name):\n",
    "    subprocess.call(['pip', 'install', name])\n",
    "install('rich')\n",
    "from rich import print\n",
    "print('[bold]Let\\'s begin the test[/bold]')\n",
    "vw.show_questions()"
   ]
  },
  {
   "cell_type": "markdown",
   "metadata": {},
   "source": [
    "## Additional Information ##"
   ]
  },
  {
   "cell_type": "markdown",
   "metadata": {},
   "source": [
    "### PYNQ Benefits ###\n",
    "PYNQ offers a lot of unique features and capabilities. We highlight some of those benefits below: \n",
    " - Open Source\n",
    " - Access to Hardware libraries like they are software libraries\n",
    " - Not required to download extra software\n",
    " - Easy project installation with pip install command\n",
    " - Highly customization and flexible \n",
    "     - Create Pynq Images for custom boards (Created via Petalinux BOOT.BIN file)\n",
    "     - Add any RTL based IP to overlay"
   ]
  },
  {
   "cell_type": "markdown",
   "metadata": {},
   "source": [
    "### PYNQ-Z2 Highlights ### \n",
    "\n",
    "The Z2 board has many features that can be used for your design. Here is an overview of some the capabilities: \n",
    "\n",
    "| Overview | Memory & storage   | Power |\n",
    "|:------|:------|:------|\n",
    "|<ul><li>650MHz ARM® Cortex® -A9 dual-core processor</li><li>Programmable logic <ul> <li>13,300 logic slices, each with four 6-input LUTs and 8 flip-flops</li><li>630 KB block RAM</li><li> 220 DSP slices</li><li>On-chip Xilinx analog-to-digital converter (XADC)</li></ul> </li><li>Programmable from JTAG, Quad-SPI flash, and MicroSD card</li></ul>|<ul><li>512MB DDR3 with 16-bit bus @ 1050Mbps</li><li>16MB Quad-SPI Flash with factory programmed 48-bit globally unique EUI-48/64™ compatible identifier</li><li>MicroSD slot</li></ul>|<ul><li>USB or 7V-15V external power regulator</li></ul>|\n",
    "\n",
    " | USB & Ethernet | Audio & Video | Switches, Push-buttons, & LEDS | Expansion Connectors |\n",
    " |:------|:------|:------|:------|\n",
    " |<ul><li>Gigabit Ethernet PHY</li><li>Micro USB-JTAG Programming circuitry</li><li>Micro USB-UART bridge</li><li>USB 2.0 OTG PHY (supports host only)</li></ul>|<ul><li>2x HDMI ports (input and output)</li><li>24bit I2S DAC with 3.5mm TRRS jack</li><li>Line-in with 3.5mm jack</li></ul>|<ul><li>4 push-buttons</li><li>2 slide switches</li><li>4 LEDs</li><li>2 RGB LEDs</li></ul>|<ul><li>2x Pmod ports <ul><li>16 Total FPGA I/O (8 pins on Pmod A are shared with Raspberry Pi connector)</li></ul></li><li>Arduino Shield compatible connector</li><ul><li>24 Total FPGA I/O</li><li>6 Single-ended 0-3.3V Analog inputs to XADC</li></ul><li>Raspberry Pi connector</li><ul><li>28 Total FPGA I/O (8 pins are shared with Pmod A)</li></ul></ul>|\n",
    "\n",
    "The Z2 board can be powered via a Micro-USB port, an external power supply, or battery. And PYNQ-Z2 supports MicroSD, Quad SPI Flash, and JTAG boot modes. You can dive more deeply into the features and capabilites of the PYNQ-Z2 in the manual below:\n",
    "\n",
    "Reference Manual: https://d2m32eurp10079.cloudfront.net/Download/PYNQ_Z2_User_Manual_v1.1.pdf"
   ]
  },
  {
   "cell_type": "markdown",
   "metadata": {},
   "source": [
    "### Video: Setting up PYNQ-Z2 and Running Hello World ###\n",
    "You can run through the following video to run a \"Hello World\" tutorial. \n",
    "\n",
    "To download the \"Hello World\" notebook, you will need to be connected to the Wifi Router. These steps are explained in the video above. \n",
    "\n",
    "The link below will direct you how to download the notebook. Make sure to open a Terminal in the Jupyter Notebook (The steps are also outlined in the video above): <br> <br>\n",
    "**https://github.com/Xilinx/PYNQ-HelloWorld/blob/master/README.md**"
   ]
  },
  {
   "cell_type": "code",
   "execution_count": 5,
   "metadata": {},
   "outputs": [
    {
     "data": {
      "text/html": [
       "<iframe width=\"560\" height=\"315\" src=\"https://www.youtube.com/embed/RiFbRf6gaK4\" frameborder=\"0\" allow=\"accelerometer; autoplay; encrypted-media; gyroscope; picture-in-picture\" allowfullscreen></iframe>"
      ],
      "text/plain": [
       "<IPython.core.display.HTML object>"
      ]
     },
     "execution_count": 5,
     "metadata": {},
     "output_type": "execute_result"
    }
   ],
   "source": [
    "from IPython.display import HTML, IFrame\n",
    "HTML('<iframe width=\"560\" height=\"315\" src=\"https://www.youtube.com/embed/RiFbRf6gaK4\" frameborder=\"0\" allow=\"accelerometer; autoplay; encrypted-media; gyroscope; picture-in-picture\" allowfullscreen></iframe>')"
   ]
  },
  {
   "cell_type": "markdown",
   "metadata": {},
   "source": [
    "## Additional Resources ##\n",
    "You can also look up more information and material on PYNQ at the following links\n",
    "\n",
    "Pynq.io: Resource Website\n",
    "\n",
    " - Projects, community projects posted\n",
    " - Source code\n",
    " - Boot images\n",
    "\n",
    "Pynq.readthedocs.io: Wiki page for Pynq\n",
    "\n",
    " - Guides for getting started\n",
    " - Jupyter Notebooks\n",
    " - Overlays\n",
    "\n",
    "\n"
   ]
  }
 ],
 "metadata": {
  "kernelspec": {
   "display_name": "Python 3",
   "language": "python",
   "name": "python3"
  },
  "language_info": {
   "codemirror_mode": {
    "name": "ipython",
    "version": 3
   },
   "file_extension": ".py",
   "mimetype": "text/x-python",
   "name": "python",
   "nbconvert_exporter": "python",
   "pygments_lexer": "ipython3",
   "version": "3.7.8"
  },
  "widgets": {
   "application/vnd.jupyter.widget-state+json": {
    "state": {
     "000a10a378194103bac45dbf6e122911": {
      "model_module": "@jupyter-widgets/controls",
      "model_module_version": "1.5.0",
      "model_name": "VBoxModel",
      "state": {
       "children": [
        "IPY_MODEL_a0d83f24337447029c1644fc4be31c33",
        "IPY_MODEL_b1b99955d07e42cda0859a8a016b2665"
       ],
       "layout": "IPY_MODEL_61e76a6b3a3243bd944e84818c3ef0c7"
      }
     },
     "004ba42079ab44ee9e1d0eef8c60497a": {
      "model_module": "@jupyter-widgets/output",
      "model_module_version": "1.0.0",
      "model_name": "OutputModel",
      "state": {
       "layout": "IPY_MODEL_b90a78db0dec4527b359ee4416892d07",
       "outputs": [
        {
         "data": {
          "text/markdown": "  ",
          "text/plain": "<IPython.core.display.Markdown object>"
         },
         "metadata": {},
         "output_type": "display_data"
        }
       ]
      }
     },
     "00708669be46440d9bb3a594210b497d": {
      "model_module": "@jupyter-widgets/controls",
      "model_module_version": "1.5.0",
      "model_name": "HTMLModel",
      "state": {
       "layout": "IPY_MODEL_5af185ce10fa464da64cf5fbebffe2e6",
       "style": "IPY_MODEL_fd8f7e5adabd4e26a6b7e197e791b482",
       "value": "<h2>Fill in the blanks of these descriptions for Raspberry Pis, Arduinos, and FPGAs as discussed in the workshop presentation. </h2> <br> 1. A(n) __ is deployed close to hardware, and can be useful for working with sensors and buttons. <br> 2. A(n) __ runs an operating system (commonly Linux), and acts like a little computer. <br> 3. A(n) __ needs its architecture defined by the user. </body>"
      }
     },
     "03caa8013e3d4e5e834c2722672a5eac": {
      "model_module": "@jupyter-widgets/controls",
      "model_module_version": "1.5.0",
      "model_name": "HTMLModel",
      "state": {
       "layout": "IPY_MODEL_4a30596ca0d74fd19477595e9de067a5",
       "style": "IPY_MODEL_069b60af04324baaa41a83c0e566331f",
       "value": "<h2>What is the standard way to create a PYNQ image for a custom board?"
      }
     },
     "069b60af04324baaa41a83c0e566331f": {
      "model_module": "@jupyter-widgets/controls",
      "model_module_version": "1.5.0",
      "model_name": "DescriptionStyleModel",
      "state": {
       "description_width": ""
      }
     },
     "0719f70f5255475dac3b55ae58502a9a": {
      "model_module": "@jupyter-widgets/base",
      "model_module_version": "1.2.0",
      "model_name": "LayoutModel",
      "state": {}
     },
     "086c39831c6042a0915fbc1d41e1b87d": {
      "model_module": "@jupyter-widgets/controls",
      "model_module_version": "1.5.0",
      "model_name": "HTMLModel",
      "state": {
       "layout": "IPY_MODEL_f62ba18986c0491190aeb67ab34ce4a2",
       "style": "IPY_MODEL_90d67d5d41c24e9d90ce565c1a2a583d",
       "value": "<h2>What set of files are necessary to deploy a PYNQ system?"
      }
     },
     "08ca8d8831bd42e6ae7c53c4d6db3bb7": {
      "model_module": "@jupyter-widgets/base",
      "model_module_version": "1.2.0",
      "model_name": "LayoutModel",
      "state": {}
     },
     "08e2a18e705845ac98f6d67a01cc89a1": {
      "model_module": "@jupyter-widgets/output",
      "model_module_version": "1.0.0",
      "model_name": "OutputModel",
      "state": {
       "layout": "IPY_MODEL_1568c4d583534e7ebe944f8e86e98ab4",
       "outputs": [
        {
         "data": {
          "text/markdown": "  ",
          "text/plain": "<IPython.core.display.Markdown object>"
         },
         "metadata": {},
         "output_type": "display_data"
        }
       ]
      }
     },
     "0a0e16791c3249949dfb212445fae3ca": {
      "model_module": "@jupyter-widgets/controls",
      "model_module_version": "1.5.0",
      "model_name": "DescriptionStyleModel",
      "state": {
       "description_width": ""
      }
     },
     "0b190f56a1df49b19ff698615e543a7e": {
      "model_module": "@jupyter-widgets/output",
      "model_module_version": "1.0.0",
      "model_name": "OutputModel",
      "state": {
       "layout": "IPY_MODEL_59c9fb987f884f839996d4aa09b7e842",
       "outputs": [
        {
         "data": {
          "text/markdown": "  ",
          "text/plain": "<IPython.core.display.Markdown object>"
         },
         "metadata": {},
         "output_type": "display_data"
        }
       ]
      }
     },
     "0bc8d15d571a4e42b7fa32f1dd3acccc": {
      "model_module": "@jupyter-widgets/base",
      "model_module_version": "1.2.0",
      "model_name": "LayoutModel",
      "state": {}
     },
     "0c6aca20c36f4fbeb007ac62e84b4b59": {
      "model_module": "@jupyter-widgets/controls",
      "model_module_version": "1.5.0",
      "model_name": "VBoxModel",
      "state": {
       "_dom_classes": [
        "widget-interact"
       ],
       "children": [
        "IPY_MODEL_a333a7e82d5b4d1bad7d27f615675995",
        "IPY_MODEL_b31c0443c4804b2b8a80e8d3a4c4aa64"
       ],
       "layout": "IPY_MODEL_e5bb49e2526d4854ae8f7582e2cfe2b8"
      }
     },
     "0efb5f2bd93343178363df6796264792": {
      "model_module": "@jupyter-widgets/controls",
      "model_module_version": "1.5.0",
      "model_name": "VBoxModel",
      "state": {
       "_dom_classes": [
        "widget-interact"
       ],
       "children": [
        "IPY_MODEL_3d1ad762819442049ccadf6522fb3558",
        "IPY_MODEL_e5dab2fd24f94ba98d96e901d555e0f1"
       ],
       "layout": "IPY_MODEL_6008ab4cc20f4d239f55614b51d8b790"
      }
     },
     "130369a55c894df388cf8141bdb67e7f": {
      "model_module": "@jupyter-widgets/controls",
      "model_module_version": "1.5.0",
      "model_name": "VBoxModel",
      "state": {
       "children": [
        "IPY_MODEL_9a2f6609aee5451c875c65e9dc67968f",
        "IPY_MODEL_43be269a4ec1493485f543929ab1ac30"
       ],
       "layout": "IPY_MODEL_3db153d8537d4e15b933def629cdb93b"
      }
     },
     "13155541590c46048c4337e5dfa31281": {
      "model_module": "@jupyter-widgets/controls",
      "model_module_version": "1.5.0",
      "model_name": "DescriptionStyleModel",
      "state": {
       "description_width": ""
      }
     },
     "1568c4d583534e7ebe944f8e86e98ab4": {
      "model_module": "@jupyter-widgets/base",
      "model_module_version": "1.2.0",
      "model_name": "LayoutModel",
      "state": {}
     },
     "15a67c2eda0344eda3375ef2808d86ce": {
      "model_module": "@jupyter-widgets/output",
      "model_module_version": "1.0.0",
      "model_name": "OutputModel",
      "state": {
       "layout": "IPY_MODEL_a49f0ae0b7374f05807d47fed528a0a3",
       "outputs": [
        {
         "data": {
          "text/markdown": "  ",
          "text/plain": "<IPython.core.display.Markdown object>"
         },
         "metadata": {},
         "output_type": "display_data"
        }
       ]
      }
     },
     "15c35db418bc484cb02fbbc4f0abfafa": {
      "model_module": "@jupyter-widgets/base",
      "model_module_version": "1.2.0",
      "model_name": "LayoutModel",
      "state": {}
     },
     "16b034dafe274c2e9e864283db14d160": {
      "model_module": "@jupyter-widgets/base",
      "model_module_version": "1.2.0",
      "model_name": "LayoutModel",
      "state": {}
     },
     "16cd8b6502a54f43a2e9b492006b419e": {
      "model_module": "@jupyter-widgets/base",
      "model_module_version": "1.2.0",
      "model_name": "LayoutModel",
      "state": {
       "width": "max-content"
      }
     },
     "174f52bbdf654d91b0d0caa2f72ee7a7": {
      "model_module": "@jupyter-widgets/controls",
      "model_module_version": "1.5.0",
      "model_name": "DescriptionStyleModel",
      "state": {
       "description_width": ""
      }
     },
     "188f0b823dbd489fa25d2af32a859f6f": {
      "model_module": "@jupyter-widgets/base",
      "model_module_version": "1.2.0",
      "model_name": "LayoutModel",
      "state": {}
     },
     "18e39eba14664208a7e28ad3f2e4f880": {
      "model_module": "@jupyter-widgets/output",
      "model_module_version": "1.0.0",
      "model_name": "OutputModel",
      "state": {
       "layout": "IPY_MODEL_a0e6d417a86f4c0ea69b9a1ecfcf9727",
       "outputs": [
        {
         "data": {
          "text/markdown": "  ",
          "text/plain": "<IPython.core.display.Markdown object>"
         },
         "metadata": {},
         "output_type": "display_data"
        }
       ]
      }
     },
     "1af582327ca14884b36944b1961b37e5": {
      "model_module": "@jupyter-widgets/controls",
      "model_module_version": "1.5.0",
      "model_name": "DescriptionStyleModel",
      "state": {
       "description_width": ""
      }
     },
     "1cb664166f25480f86f42950d02de754": {
      "model_module": "@jupyter-widgets/controls",
      "model_module_version": "1.5.0",
      "model_name": "RadioButtonsModel",
      "state": {
       "_options_labels": [
        "APIs",
        "Layers",
        "Notebooks",
        "Overlays"
       ],
       "description": " ",
       "index": 2,
       "layout": "IPY_MODEL_29d8e83cf98f46c0b0c9fafdc73e2c95",
       "style": "IPY_MODEL_cbde2e01067440c788bc6bb5a9eabf7d"
      }
     },
     "1f19ecc48ae44d73abad60bf4b131a0f": {
      "model_module": "@jupyter-widgets/controls",
      "model_module_version": "1.5.0",
      "model_name": "DescriptionStyleModel",
      "state": {
       "description_width": ""
      }
     },
     "1f977eed820c49b4ad4c88ba6d3eeb94": {
      "model_module": "@jupyter-widgets/base",
      "model_module_version": "1.2.0",
      "model_name": "LayoutModel",
      "state": {}
     },
     "22168330ec3849fdb37f1855ea7ded96": {
      "model_module": "@jupyter-widgets/base",
      "model_module_version": "1.2.0",
      "model_name": "LayoutModel",
      "state": {
       "width": "max-content"
      }
     },
     "223ee57dd0564ca0b27fca25b64da0c9": {
      "model_module": "@jupyter-widgets/controls",
      "model_module_version": "1.5.0",
      "model_name": "HTMLModel",
      "state": {
       "layout": "IPY_MODEL_7a0301819f5f4cf3b4dbb26c190974b1",
       "style": "IPY_MODEL_0a0e16791c3249949dfb212445fae3ca",
       "value": "<h2>What is the standard way to create a PYNQ image for a custom board?"
      }
     },
     "238869fce0b44d68af78167b2417c040": {
      "model_module": "@jupyter-widgets/controls",
      "model_module_version": "1.5.0",
      "model_name": "VBoxModel",
      "state": {
       "children": [
        "IPY_MODEL_62f67f50b5434ac4ba9960d055dd1955",
        "IPY_MODEL_0efb5f2bd93343178363df6796264792"
       ],
       "layout": "IPY_MODEL_5fbf355035a94f7d9d3bf49a3ed7fab4"
      }
     },
     "23f5795267034539bacb3b47996f01fc": {
      "model_module": "@jupyter-widgets/controls",
      "model_module_version": "1.5.0",
      "model_name": "VBoxModel",
      "state": {
       "_dom_classes": [
        "widget-interact"
       ],
       "children": [
        "IPY_MODEL_d97f613d794c4b92a3a0d10bfa1177f5",
        "IPY_MODEL_86fc1e8422924b45b73e933d9c84dcda"
       ],
       "layout": "IPY_MODEL_bc5afc218991488ca3e22dc7b0fc4226"
      }
     },
     "245a113bab8a470987678341c973bc5b": {
      "model_module": "@jupyter-widgets/controls",
      "model_module_version": "1.5.0",
      "model_name": "VBoxModel",
      "state": {
       "children": [
        "IPY_MODEL_00708669be46440d9bb3a594210b497d",
        "IPY_MODEL_4dd52610e4644f2f876b9250f285f8f5"
       ],
       "layout": "IPY_MODEL_bef2af64fb6141e18b8cfe6623cad727"
      }
     },
     "24c07ef797644e129468ddc03913027c": {
      "model_module": "@jupyter-widgets/controls",
      "model_module_version": "1.5.0",
      "model_name": "VBoxModel",
      "state": {
       "_dom_classes": [
        "widget-interact"
       ],
       "children": [
        "IPY_MODEL_aff5e3be03ed4d7cb797c73d5345c28c",
        "IPY_MODEL_08e2a18e705845ac98f6d67a01cc89a1"
       ],
       "layout": "IPY_MODEL_96276a34c4c849cf9197de25c47b322a"
      }
     },
     "2592c32b96e143298fe24d9b56252ce0": {
      "model_module": "@jupyter-widgets/base",
      "model_module_version": "1.2.0",
      "model_name": "LayoutModel",
      "state": {}
     },
     "266d43e30cb94d6d93df4394b504e579": {
      "model_module": "@jupyter-widgets/base",
      "model_module_version": "1.2.0",
      "model_name": "LayoutModel",
      "state": {}
     },
     "2676d03a77914e6baf29a5b6696fc1d6": {
      "model_module": "@jupyter-widgets/base",
      "model_module_version": "1.2.0",
      "model_name": "LayoutModel",
      "state": {}
     },
     "26db9ad6a4da457c8312c91ec0eb21fc": {
      "model_module": "@jupyter-widgets/controls",
      "model_module_version": "1.5.0",
      "model_name": "VBoxModel",
      "state": {
       "_dom_classes": [
        "widget-interact"
       ],
       "children": [
        "IPY_MODEL_51a644977bb24c0981f0de777ac01e51",
        "IPY_MODEL_50d0662c992641f29140c7d89dc9c01a"
       ],
       "layout": "IPY_MODEL_bbaefa7df76d41bd97fb7c8247f23902"
      }
     },
     "278aebbcad2c46e99e07a7c7fae36cc7": {
      "model_module": "@jupyter-widgets/controls",
      "model_module_version": "1.5.0",
      "model_name": "DescriptionStyleModel",
      "state": {
       "description_width": ""
      }
     },
     "278c76e8b9064d4b908366a02e1098f6": {
      "model_module": "@jupyter-widgets/controls",
      "model_module_version": "1.5.0",
      "model_name": "DescriptionStyleModel",
      "state": {
       "description_width": ""
      }
     },
     "27e38737d30e4d54ab51cc5a51b93d75": {
      "model_module": "@jupyter-widgets/output",
      "model_module_version": "1.0.0",
      "model_name": "OutputModel",
      "state": {
       "layout": "IPY_MODEL_610c1994f1a14a9aa79bb6093bdd08e1",
       "outputs": [
        {
         "data": {
          "text/markdown": "  ",
          "text/plain": "<IPython.core.display.Markdown object>"
         },
         "metadata": {},
         "output_type": "display_data"
        }
       ]
      }
     },
     "298a8f999a424828902a01a7036ab639": {
      "model_module": "@jupyter-widgets/controls",
      "model_module_version": "1.5.0",
      "model_name": "VBoxModel",
      "state": {
       "children": [
        "IPY_MODEL_7ff3b89ef99142e88ba94270066dcb70",
        "IPY_MODEL_a297a296f5a04fd9a3a45b08ccb0e0e0"
       ],
       "layout": "IPY_MODEL_1f977eed820c49b4ad4c88ba6d3eeb94"
      }
     },
     "29d8e83cf98f46c0b0c9fafdc73e2c95": {
      "model_module": "@jupyter-widgets/base",
      "model_module_version": "1.2.0",
      "model_name": "LayoutModel",
      "state": {
       "width": "max-content"
      }
     },
     "2ad6918d60844d658c69505d0b20fd45": {
      "model_module": "@jupyter-widgets/base",
      "model_module_version": "1.2.0",
      "model_name": "LayoutModel",
      "state": {}
     },
     "2ae01595ec63448caff1306fab2e8af7": {
      "model_module": "@jupyter-widgets/output",
      "model_module_version": "1.0.0",
      "model_name": "OutputModel",
      "state": {
       "layout": "IPY_MODEL_44348fd012de4fcc89d17444160086e2",
       "outputs": [
        {
         "data": {
          "text/markdown": "Correct!",
          "text/plain": "<IPython.core.display.Markdown object>"
         },
         "metadata": {},
         "output_type": "display_data"
        }
       ]
      }
     },
     "2b11bd8ed0f14f609e436f01843567b1": {
      "model_module": "@jupyter-widgets/controls",
      "model_module_version": "1.5.0",
      "model_name": "DescriptionStyleModel",
      "state": {
       "description_width": ""
      }
     },
     "2dd9489b0ef74b28a78aabc61fa029d4": {
      "model_module": "@jupyter-widgets/controls",
      "model_module_version": "1.5.0",
      "model_name": "DescriptionStyleModel",
      "state": {
       "description_width": ""
      }
     },
     "2f845297321a4ada8c1965130166f5a3": {
      "model_module": "@jupyter-widgets/base",
      "model_module_version": "1.2.0",
      "model_name": "LayoutModel",
      "state": {
       "width": "max-content"
      }
     },
     "332dbbf4cebd4c6cb9c1afb25e293b21": {
      "model_module": "@jupyter-widgets/controls",
      "model_module_version": "1.5.0",
      "model_name": "VBoxModel",
      "state": {
       "_dom_classes": [
        "widget-interact"
       ],
       "children": [
        "IPY_MODEL_c9026cb4c0fa4573b525466892d224fb",
        "IPY_MODEL_eae5adfebd784ee39e8d938508786500"
       ],
       "layout": "IPY_MODEL_e78219fc995746b79e7471789ab728e2"
      }
     },
     "350aaeefcebe4a92b8daa61700422b4b": {
      "model_module": "@jupyter-widgets/output",
      "model_module_version": "1.0.0",
      "model_name": "OutputModel",
      "state": {
       "layout": "IPY_MODEL_7c8fc771c65e4b27ac0a1618bf8873e3",
       "outputs": [
        {
         "data": {
          "text/markdown": "  ",
          "text/plain": "<IPython.core.display.Markdown object>"
         },
         "metadata": {},
         "output_type": "display_data"
        }
       ]
      }
     },
     "379cb39420d34c71a22b454ca93c2a5c": {
      "model_module": "@jupyter-widgets/base",
      "model_module_version": "1.2.0",
      "model_name": "LayoutModel",
      "state": {}
     },
     "37b0efdbf5b94e54bd7e20ac53ff829e": {
      "model_module": "@jupyter-widgets/output",
      "model_module_version": "1.0.0",
      "model_name": "OutputModel",
      "state": {
       "layout": "IPY_MODEL_379cb39420d34c71a22b454ca93c2a5c",
       "outputs": [
        {
         "data": {
          "text/markdown": "  ",
          "text/plain": "<IPython.core.display.Markdown object>"
         },
         "metadata": {},
         "output_type": "display_data"
        }
       ]
      }
     },
     "37e51c63ee124c879fdacc6ef35d592e": {
      "model_module": "@jupyter-widgets/base",
      "model_module_version": "1.2.0",
      "model_name": "LayoutModel",
      "state": {
       "width": "max-content"
      }
     },
     "3833505b9f05446bb79d77b3c953055f": {
      "model_module": "@jupyter-widgets/controls",
      "model_module_version": "1.5.0",
      "model_name": "RadioButtonsModel",
      "state": {
       "_options_labels": [
        "FPGA, RPi, Arduino",
        "FPGA, Arduino, RPi",
        "Arduino, RPi, FPGA",
        "RPi, FPGA, Arduino"
       ],
       "description": " ",
       "index": 0,
       "layout": "IPY_MODEL_8a98ae9882e946fb9ff607679bfc226e",
       "style": "IPY_MODEL_c81d02bbd22646baa4ce098cdbb86478"
      }
     },
     "38778457cb834acd98f1f8ee1a75638b": {
      "model_module": "@jupyter-widgets/base",
      "model_module_version": "1.2.0",
      "model_name": "LayoutModel",
      "state": {
       "width": "max-content"
      }
     },
     "3a7ff6a50867456b93eb7f724edaa07d": {
      "model_module": "@jupyter-widgets/base",
      "model_module_version": "1.2.0",
      "model_name": "LayoutModel",
      "state": {
       "width": "max-content"
      }
     },
     "3d1ad762819442049ccadf6522fb3558": {
      "model_module": "@jupyter-widgets/controls",
      "model_module_version": "1.5.0",
      "model_name": "RadioButtonsModel",
      "state": {
       "_options_labels": [
        "FPGA, RPi, Arduino",
        "FPGA, Arduino, RPi",
        "Arduino, RPi, FPGA",
        "RPi, FPGA, Arduino"
       ],
       "description": " ",
       "index": 0,
       "layout": "IPY_MODEL_b878e733e0b14d9d96147717f51b2b67",
       "style": "IPY_MODEL_bfcaf453702e495c832e0a8b1b8ac6f3"
      }
     },
     "3db153d8537d4e15b933def629cdb93b": {
      "model_module": "@jupyter-widgets/base",
      "model_module_version": "1.2.0",
      "model_name": "LayoutModel",
      "state": {}
     },
     "43be269a4ec1493485f543929ab1ac30": {
      "model_module": "@jupyter-widgets/controls",
      "model_module_version": "1.5.0",
      "model_name": "VBoxModel",
      "state": {
       "_dom_classes": [
        "widget-interact"
       ],
       "children": [
        "IPY_MODEL_1cb664166f25480f86f42950d02de754",
        "IPY_MODEL_71f866f1f4454457ab643769b647dd94"
       ],
       "layout": "IPY_MODEL_0bc8d15d571a4e42b7fa32f1dd3acccc"
      }
     },
     "44348fd012de4fcc89d17444160086e2": {
      "model_module": "@jupyter-widgets/base",
      "model_module_version": "1.2.0",
      "model_name": "LayoutModel",
      "state": {}
     },
     "46583ec4fec6490db7e11d2a71c03d75": {
      "model_module": "@jupyter-widgets/controls",
      "model_module_version": "1.5.0",
      "model_name": "RadioButtonsModel",
      "state": {
       "_options_labels": [
        "Bitstream (*.bit), Hardware Handoff (*.hwh), Jupyter Notebook (*.ipynb)",
        "Bitstream (*.bit), Hardware Handoff (*.hwh), Solution (.sln)",
        "Hardware Handoff (*.hwh), Solution (*.sln), Jupyter Notebook (*ipynb)",
        "Hardware Handoff (*hwh), Java Archive (*.jar), Text (.txt)"
       ],
       "description": " ",
       "index": 0,
       "layout": "IPY_MODEL_7e0bafa5f078411aa9662ad226586378",
       "style": "IPY_MODEL_65c3fc60c9d94ea8bb92df93d681ddf5"
      }
     },
     "49ba8cf528c64ef98028f7ced3e2263c": {
      "model_module": "@jupyter-widgets/controls",
      "model_module_version": "1.5.0",
      "model_name": "HTMLModel",
      "state": {
       "layout": "IPY_MODEL_ebde0ef085fe4b9e84518f99755ab180",
       "style": "IPY_MODEL_278aebbcad2c46e99e07a7c7fae36cc7",
       "value": "<h2>Which of the following environments is used with PYNQ?"
      }
     },
     "49ff6feaddc6472085f3456524b51744": {
      "model_module": "@jupyter-widgets/base",
      "model_module_version": "1.2.0",
      "model_name": "LayoutModel",
      "state": {}
     },
     "4a27085e2bf24efca546105a59237e63": {
      "model_module": "@jupyter-widgets/controls",
      "model_module_version": "1.5.0",
      "model_name": "HTMLModel",
      "state": {
       "layout": "IPY_MODEL_eda565859e644837a61a7092167b8f50",
       "style": "IPY_MODEL_77b4b078384f4ef7aae04f2cb5cd4151",
       "value": "<h2>With PYNQ, hardware system designs are referred to as:"
      }
     },
     "4a30596ca0d74fd19477595e9de067a5": {
      "model_module": "@jupyter-widgets/base",
      "model_module_version": "1.2.0",
      "model_name": "LayoutModel",
      "state": {}
     },
     "4a8e2d8cc3fe4eb2b5cbb92444c799a3": {
      "model_module": "@jupyter-widgets/base",
      "model_module_version": "1.2.0",
      "model_name": "LayoutModel",
      "state": {}
     },
     "4cb410d15bc14b90a5ca080914b48567": {
      "model_module": "@jupyter-widgets/base",
      "model_module_version": "1.2.0",
      "model_name": "LayoutModel",
      "state": {}
     },
     "4dd52610e4644f2f876b9250f285f8f5": {
      "model_module": "@jupyter-widgets/controls",
      "model_module_version": "1.5.0",
      "model_name": "VBoxModel",
      "state": {
       "_dom_classes": [
        "widget-interact"
       ],
       "children": [
        "IPY_MODEL_effa69d1a53a4304b12ba71e9c744670",
        "IPY_MODEL_350aaeefcebe4a92b8daa61700422b4b"
       ],
       "layout": "IPY_MODEL_544e47fa21104a4bb1786a136556eb02"
      }
     },
     "4e3b4f2c5b524c9ea3db56555d010863": {
      "model_module": "@jupyter-widgets/controls",
      "model_module_version": "1.5.0",
      "model_name": "DescriptionStyleModel",
      "state": {
       "description_width": ""
      }
     },
     "4e70418ea01d4d74b5f9bda392ab6881": {
      "model_module": "@jupyter-widgets/controls",
      "model_module_version": "1.5.0",
      "model_name": "DescriptionStyleModel",
      "state": {
       "description_width": ""
      }
     },
     "4eb6e433b3444bfdaa36099c8752c9b6": {
      "model_module": "@jupyter-widgets/controls",
      "model_module_version": "1.5.0",
      "model_name": "VBoxModel",
      "state": {
       "_dom_classes": [
        "widget-interact"
       ],
       "children": [
        "IPY_MODEL_69f5d958fbd249e99016c08049410b4b",
        "IPY_MODEL_18e39eba14664208a7e28ad3f2e4f880"
       ],
       "layout": "IPY_MODEL_4a8e2d8cc3fe4eb2b5cbb92444c799a3"
      }
     },
     "4f48dee8e22c4b57a7d6633ab23fc39d": {
      "model_module": "@jupyter-widgets/controls",
      "model_module_version": "1.5.0",
      "model_name": "VBoxModel",
      "state": {
       "children": [
        "IPY_MODEL_03caa8013e3d4e5e834c2722672a5eac",
        "IPY_MODEL_23f5795267034539bacb3b47996f01fc"
       ],
       "layout": "IPY_MODEL_66284e17c4fc49b18b3a619f7b84c8e2"
      }
     },
     "50ad1d60239844ff973651b062c119bc": {
      "model_module": "@jupyter-widgets/base",
      "model_module_version": "1.2.0",
      "model_name": "LayoutModel",
      "state": {}
     },
     "50d0662c992641f29140c7d89dc9c01a": {
      "model_module": "@jupyter-widgets/output",
      "model_module_version": "1.0.0",
      "model_name": "OutputModel",
      "state": {
       "layout": "IPY_MODEL_2676d03a77914e6baf29a5b6696fc1d6",
       "outputs": [
        {
         "data": {
          "text/markdown": "Correct!",
          "text/plain": "<IPython.core.display.Markdown object>"
         },
         "metadata": {},
         "output_type": "display_data"
        }
       ]
      }
     },
     "5115e693b99c4b2e8fc588da80f9e126": {
      "model_module": "@jupyter-widgets/controls",
      "model_module_version": "1.5.0",
      "model_name": "HTMLModel",
      "state": {
       "layout": "IPY_MODEL_16b034dafe274c2e9e864283db14d160",
       "style": "IPY_MODEL_cc4f67954b36476cade55c98e2530365",
       "value": "<h2>Which of the following environments is used with PYNQ?"
      }
     },
     "51a644977bb24c0981f0de777ac01e51": {
      "model_module": "@jupyter-widgets/controls",
      "model_module_version": "1.5.0",
      "model_name": "RadioButtonsModel",
      "state": {
       "_options_labels": [
        "Via Petalinux HDF file",
        "Via Petalinux BOOT.BIN file",
        "Via Petalinux BSP file",
        "Via Petalinux image.ub"
       ],
       "description": " ",
       "index": 1,
       "layout": "IPY_MODEL_9ec93e9c79f945e5bedca09f978c0d97",
       "style": "IPY_MODEL_9564ea12d12a499ca3a9d179b9f9dcf6"
      }
     },
     "524311d22ac24e45bd84c02eae4fd5fc": {
      "model_module": "@jupyter-widgets/output",
      "model_module_version": "1.0.0",
      "model_name": "OutputModel",
      "state": {
       "layout": "IPY_MODEL_4cb410d15bc14b90a5ca080914b48567",
       "outputs": [
        {
         "data": {
          "text/markdown": "  ",
          "text/plain": "<IPython.core.display.Markdown object>"
         },
         "metadata": {},
         "output_type": "display_data"
        }
       ]
      }
     },
     "5444a2051a7e45ab9e903361b7615eee": {
      "model_module": "@jupyter-widgets/base",
      "model_module_version": "1.2.0",
      "model_name": "LayoutModel",
      "state": {}
     },
     "544e47fa21104a4bb1786a136556eb02": {
      "model_module": "@jupyter-widgets/base",
      "model_module_version": "1.2.0",
      "model_name": "LayoutModel",
      "state": {}
     },
     "56744cf27943400e9c08663cb89fa0c1": {
      "model_module": "@jupyter-widgets/controls",
      "model_module_version": "1.5.0",
      "model_name": "VBoxModel",
      "state": {
       "children": [
        "IPY_MODEL_ccfb67f2519943d38baec3c0646e830c",
        "IPY_MODEL_24c07ef797644e129468ddc03913027c"
       ],
       "layout": "IPY_MODEL_188f0b823dbd489fa25d2af32a859f6f"
      }
     },
     "58e72e36a8f54e5eb353c8af6beca3b0": {
      "model_module": "@jupyter-widgets/controls",
      "model_module_version": "1.5.0",
      "model_name": "VBoxModel",
      "state": {
       "children": [
        "IPY_MODEL_49ba8cf528c64ef98028f7ced3e2263c",
        "IPY_MODEL_332dbbf4cebd4c6cb9c1afb25e293b21"
       ],
       "layout": "IPY_MODEL_98b244521f2f40149a31c9a60821d705"
      }
     },
     "59c9fb987f884f839996d4aa09b7e842": {
      "model_module": "@jupyter-widgets/base",
      "model_module_version": "1.2.0",
      "model_name": "LayoutModel",
      "state": {}
     },
     "5af185ce10fa464da64cf5fbebffe2e6": {
      "model_module": "@jupyter-widgets/base",
      "model_module_version": "1.2.0",
      "model_name": "LayoutModel",
      "state": {}
     },
     "5b44a777ca7a4a61b01d5deac012185d": {
      "model_module": "@jupyter-widgets/base",
      "model_module_version": "1.2.0",
      "model_name": "LayoutModel",
      "state": {
       "width": "max-content"
      }
     },
     "5e64a52daf52497fbce95add5f1f90da": {
      "model_module": "@jupyter-widgets/base",
      "model_module_version": "1.2.0",
      "model_name": "LayoutModel",
      "state": {}
     },
     "5fbf355035a94f7d9d3bf49a3ed7fab4": {
      "model_module": "@jupyter-widgets/base",
      "model_module_version": "1.2.0",
      "model_name": "LayoutModel",
      "state": {}
     },
     "6008ab4cc20f4d239f55614b51d8b790": {
      "model_module": "@jupyter-widgets/base",
      "model_module_version": "1.2.0",
      "model_name": "LayoutModel",
      "state": {}
     },
     "610c1994f1a14a9aa79bb6093bdd08e1": {
      "model_module": "@jupyter-widgets/base",
      "model_module_version": "1.2.0",
      "model_name": "LayoutModel",
      "state": {}
     },
     "61e2a36df0fb4abe8e55335ccaa29566": {
      "model_module": "@jupyter-widgets/controls",
      "model_module_version": "1.5.0",
      "model_name": "VBoxModel",
      "state": {
       "_dom_classes": [
        "widget-interact"
       ],
       "children": [
        "IPY_MODEL_b455ca09b9624b5aa7a41c2375a0f930",
        "IPY_MODEL_15a67c2eda0344eda3375ef2808d86ce"
       ],
       "layout": "IPY_MODEL_6eaadb7f4995425eba44b77d8aaabd75"
      }
     },
     "61e76a6b3a3243bd944e84818c3ef0c7": {
      "model_module": "@jupyter-widgets/base",
      "model_module_version": "1.2.0",
      "model_name": "LayoutModel",
      "state": {}
     },
     "62f67f50b5434ac4ba9960d055dd1955": {
      "model_module": "@jupyter-widgets/controls",
      "model_module_version": "1.5.0",
      "model_name": "HTMLModel",
      "state": {
       "layout": "IPY_MODEL_7cbb722661d94e958bd925f0340e945d",
       "style": "IPY_MODEL_6728bc33a80342198bcb9e6366c1d77a",
       "value": "<h2>Fill in the blanks of these descriptions for Raspberry Pis, Arduinos, and FPGAs as discussed in the workshop presentation. </h2> <br> 1. A(n) __ is deployed close to hardware, and can be useful for working with sensors and buttons. <br> 2. A(n) __ runs an operating system (commonly Linux), and acts like a little computer. <br> 3. A(n) __ needs its architecture defined by the user. </body>"
      }
     },
     "65c3fc60c9d94ea8bb92df93d681ddf5": {
      "model_module": "@jupyter-widgets/controls",
      "model_module_version": "1.5.0",
      "model_name": "DescriptionStyleModel",
      "state": {
       "description_width": ""
      }
     },
     "66284e17c4fc49b18b3a619f7b84c8e2": {
      "model_module": "@jupyter-widgets/base",
      "model_module_version": "1.2.0",
      "model_name": "LayoutModel",
      "state": {}
     },
     "670e0f8f9464460c9480dde9e045a509": {
      "model_module": "@jupyter-widgets/base",
      "model_module_version": "1.2.0",
      "model_name": "LayoutModel",
      "state": {
       "width": "max-content"
      }
     },
     "6728bc33a80342198bcb9e6366c1d77a": {
      "model_module": "@jupyter-widgets/controls",
      "model_module_version": "1.5.0",
      "model_name": "DescriptionStyleModel",
      "state": {
       "description_width": ""
      }
     },
     "6740f6578101449589028862276f765a": {
      "model_module": "@jupyter-widgets/controls",
      "model_module_version": "1.5.0",
      "model_name": "DescriptionStyleModel",
      "state": {
       "description_width": ""
      }
     },
     "68934bc393704b7c94ea2d26ccb3d915": {
      "model_module": "@jupyter-widgets/base",
      "model_module_version": "1.2.0",
      "model_name": "LayoutModel",
      "state": {}
     },
     "69f5d958fbd249e99016c08049410b4b": {
      "model_module": "@jupyter-widgets/controls",
      "model_module_version": "1.5.0",
      "model_name": "RadioButtonsModel",
      "state": {
       "_options_labels": [
        "PyCharm",
        "Jupyter Notebooks",
        "Visual Studio",
        "BlueJ"
       ],
       "description": " ",
       "index": 0,
       "layout": "IPY_MODEL_b37aec85a05a46d299a49303cf6920d7",
       "style": "IPY_MODEL_ab87d6e27424443a8020bcb02dc199fc"
      }
     },
     "6a09293f1a4c4f8d814ae680ea1ac6e4": {
      "model_module": "@jupyter-widgets/base",
      "model_module_version": "1.2.0",
      "model_name": "LayoutModel",
      "state": {
       "width": "max-content"
      }
     },
     "6b06e6cefa7b490bbb51e12819e15c9e": {
      "model_module": "@jupyter-widgets/controls",
      "model_module_version": "1.5.0",
      "model_name": "VBoxModel",
      "state": {
       "children": [
        "IPY_MODEL_9a007ddde1664aa4a484a3ab3b7f34e1",
        "IPY_MODEL_61e2a36df0fb4abe8e55335ccaa29566"
       ],
       "layout": "IPY_MODEL_2ad6918d60844d658c69505d0b20fd45"
      }
     },
     "6b7a35bd0ddd4253b9b9b365d32e282f": {
      "model_module": "@jupyter-widgets/controls",
      "model_module_version": "1.5.0",
      "model_name": "HTMLModel",
      "state": {
       "layout": "IPY_MODEL_49ff6feaddc6472085f3456524b51744",
       "style": "IPY_MODEL_a76114a5164141e5a77279344d954cf6",
       "value": "<h2>What is PYNQ?"
      }
     },
     "6da8f0504f8e41179b088c8d843e62b9": {
      "model_module": "@jupyter-widgets/controls",
      "model_module_version": "1.5.0",
      "model_name": "VBoxModel",
      "state": {
       "children": [
        "IPY_MODEL_95cb8857edc24d1b8cad029dda021422",
        "IPY_MODEL_4eb6e433b3444bfdaa36099c8752c9b6"
       ],
       "layout": "IPY_MODEL_d907a25e7b1e4964bd181b6ea752a6fd"
      }
     },
     "6eaadb7f4995425eba44b77d8aaabd75": {
      "model_module": "@jupyter-widgets/base",
      "model_module_version": "1.2.0",
      "model_name": "LayoutModel",
      "state": {}
     },
     "71f866f1f4454457ab643769b647dd94": {
      "model_module": "@jupyter-widgets/output",
      "model_module_version": "1.0.0",
      "model_name": "OutputModel",
      "state": {
       "layout": "IPY_MODEL_e4c73589081b4214b4b4888fe5c01afc",
       "outputs": [
        {
         "data": {
          "text/markdown": "  ",
          "text/plain": "<IPython.core.display.Markdown object>"
         },
         "metadata": {},
         "output_type": "display_data"
        }
       ]
      }
     },
     "72edc3f980f34a95ba42f01b9b3ec6bc": {
      "model_module": "@jupyter-widgets/controls",
      "model_module_version": "1.5.0",
      "model_name": "VBoxModel",
      "state": {
       "children": [
        "IPY_MODEL_223ee57dd0564ca0b27fca25b64da0c9",
        "IPY_MODEL_26db9ad6a4da457c8312c91ec0eb21fc"
       ],
       "layout": "IPY_MODEL_2592c32b96e143298fe24d9b56252ce0"
      }
     },
     "736f4cd58834402e80a530d065dfd784": {
      "model_module": "@jupyter-widgets/controls",
      "model_module_version": "1.5.0",
      "model_name": "DescriptionStyleModel",
      "state": {
       "description_width": ""
      }
     },
     "73e0c78ece2f4ee3807eaa6dd861abcf": {
      "model_module": "@jupyter-widgets/controls",
      "model_module_version": "1.5.0",
      "model_name": "VBoxModel",
      "state": {
       "_dom_classes": [
        "widget-interact"
       ],
       "children": [
        "IPY_MODEL_946fc61b3f4a43d480509d13fc3e8f9e",
        "IPY_MODEL_004ba42079ab44ee9e1d0eef8c60497a"
       ],
       "layout": "IPY_MODEL_74fc2043d46c45e684e547b8cdb31963"
      }
     },
     "74fc2043d46c45e684e547b8cdb31963": {
      "model_module": "@jupyter-widgets/base",
      "model_module_version": "1.2.0",
      "model_name": "LayoutModel",
      "state": {}
     },
     "75a60ff4032140f482f8067efc49b4d6": {
      "model_module": "@jupyter-widgets/controls",
      "model_module_version": "1.5.0",
      "model_name": "VBoxModel",
      "state": {
       "children": [
        "IPY_MODEL_8f791c5edbe2450a9a37e2ed20c83b64",
        "IPY_MODEL_ff1f457b5dab45e2857c1a2f78e1b540"
       ],
       "layout": "IPY_MODEL_15c35db418bc484cb02fbbc4f0abfafa"
      }
     },
     "7742a83303884efb9bee788631bce66f": {
      "model_module": "@jupyter-widgets/base",
      "model_module_version": "1.2.0",
      "model_name": "LayoutModel",
      "state": {}
     },
     "77b4b078384f4ef7aae04f2cb5cd4151": {
      "model_module": "@jupyter-widgets/controls",
      "model_module_version": "1.5.0",
      "model_name": "DescriptionStyleModel",
      "state": {
       "description_width": ""
      }
     },
     "7a0301819f5f4cf3b4dbb26c190974b1": {
      "model_module": "@jupyter-widgets/base",
      "model_module_version": "1.2.0",
      "model_name": "LayoutModel",
      "state": {}
     },
     "7c8fc771c65e4b27ac0a1618bf8873e3": {
      "model_module": "@jupyter-widgets/base",
      "model_module_version": "1.2.0",
      "model_name": "LayoutModel",
      "state": {}
     },
     "7cbb722661d94e958bd925f0340e945d": {
      "model_module": "@jupyter-widgets/base",
      "model_module_version": "1.2.0",
      "model_name": "LayoutModel",
      "state": {}
     },
     "7e0bafa5f078411aa9662ad226586378": {
      "model_module": "@jupyter-widgets/base",
      "model_module_version": "1.2.0",
      "model_name": "LayoutModel",
      "state": {
       "width": "max-content"
      }
     },
     "7ff3b89ef99142e88ba94270066dcb70": {
      "model_module": "@jupyter-widgets/controls",
      "model_module_version": "1.5.0",
      "model_name": "HTMLModel",
      "state": {
       "layout": "IPY_MODEL_266d43e30cb94d6d93df4394b504e579",
       "style": "IPY_MODEL_d931f08486124ec2a2b5483a748fc53a",
       "value": "<h2>What is the standard way to create a PYNQ image for a custom board?"
      }
     },
     "815af6e035fe49179b96e35c6cb38c57": {
      "model_module": "@jupyter-widgets/base",
      "model_module_version": "1.2.0",
      "model_name": "LayoutModel",
      "state": {}
     },
     "83e1d0529470438682f7d3f25410d742": {
      "model_module": "@jupyter-widgets/base",
      "model_module_version": "1.2.0",
      "model_name": "LayoutModel",
      "state": {}
     },
     "8527faae209b4f03b418c963a7f66525": {
      "model_module": "@jupyter-widgets/controls",
      "model_module_version": "1.5.0",
      "model_name": "VBoxModel",
      "state": {
       "children": [
        "IPY_MODEL_6b7a35bd0ddd4253b9b9b365d32e282f",
        "IPY_MODEL_73e0c78ece2f4ee3807eaa6dd861abcf"
       ],
       "layout": "IPY_MODEL_cd887ea344ec4b3aa5e075f32dee668b"
      }
     },
     "86fc1e8422924b45b73e933d9c84dcda": {
      "model_module": "@jupyter-widgets/output",
      "model_module_version": "1.0.0",
      "model_name": "OutputModel",
      "state": {
       "layout": "IPY_MODEL_c55fcc8e39014a5f8c24e269494b2d4b",
       "outputs": [
        {
         "data": {
          "text/markdown": "  ",
          "text/plain": "<IPython.core.display.Markdown object>"
         },
         "metadata": {},
         "output_type": "display_data"
        }
       ]
      }
     },
     "8a71d1f872114e8883b7a6acdbdd61fe": {
      "model_module": "@jupyter-widgets/controls",
      "model_module_version": "1.5.0",
      "model_name": "DescriptionStyleModel",
      "state": {
       "description_width": ""
      }
     },
     "8a98ae9882e946fb9ff607679bfc226e": {
      "model_module": "@jupyter-widgets/base",
      "model_module_version": "1.2.0",
      "model_name": "LayoutModel",
      "state": {
       "width": "max-content"
      }
     },
     "8a9d48ae9f9041f9a82c8cd4026bd322": {
      "model_module": "@jupyter-widgets/base",
      "model_module_version": "1.2.0",
      "model_name": "LayoutModel",
      "state": {}
     },
     "8e08504259bf4ec8ac5c138eac884648": {
      "model_module": "@jupyter-widgets/controls",
      "model_module_version": "1.5.0",
      "model_name": "VBoxModel",
      "state": {
       "children": [
        "IPY_MODEL_ab6c7cf915c746a98560770c1bab5974",
        "IPY_MODEL_d31f2949e05f4d94850f4a34081c5fcf"
       ],
       "layout": "IPY_MODEL_fb88786a8d0c47c581c07150bdb4d035"
      }
     },
     "8f2540b136fe4526b74c808f2be959d1": {
      "model_module": "@jupyter-widgets/controls",
      "model_module_version": "1.5.0",
      "model_name": "VBoxModel",
      "state": {
       "children": [
        "IPY_MODEL_4a27085e2bf24efca546105a59237e63",
        "IPY_MODEL_a1a4a883321947a99eb96db6594c08d2"
       ],
       "layout": "IPY_MODEL_b274f9ca33b444fd9a449ea3f6ba9d2c"
      }
     },
     "8f791c5edbe2450a9a37e2ed20c83b64": {
      "model_module": "@jupyter-widgets/controls",
      "model_module_version": "1.5.0",
      "model_name": "HTMLModel",
      "state": {
       "layout": "IPY_MODEL_5444a2051a7e45ab9e903361b7615eee",
       "style": "IPY_MODEL_1f19ecc48ae44d73abad60bf4b131a0f",
       "value": "<h2>Fill in the blanks of these descriptions for Raspberry Pis, Arduinos, and FPGAs as discussed in the workshop presentation. </h2> <br> 1. A(n) __ is deployed close to hardware, and can be useful for working with sensors and buttons. <br> 2. A(n) __ runs an operating system (commonly Linux), and acts like a little computer. <br> 3. A(n) __ needs its architecture defined by the user. </body>"
      }
     },
     "90d67d5d41c24e9d90ce565c1a2a583d": {
      "model_module": "@jupyter-widgets/controls",
      "model_module_version": "1.5.0",
      "model_name": "DescriptionStyleModel",
      "state": {
       "description_width": ""
      }
     },
     "927941c7fd724c4f961646475af0dad6": {
      "model_module": "@jupyter-widgets/controls",
      "model_module_version": "1.5.0",
      "model_name": "VBoxModel",
      "state": {
       "children": [
        "IPY_MODEL_086c39831c6042a0915fbc1d41e1b87d",
        "IPY_MODEL_b09e0dd269d84a4092f2c1ac6749c163"
       ],
       "layout": "IPY_MODEL_a6b7c5fdad1f4499ae78ba482fbda036"
      }
     },
     "946fc61b3f4a43d480509d13fc3e8f9e": {
      "model_module": "@jupyter-widgets/controls",
      "model_module_version": "1.5.0",
      "model_name": "RadioButtonsModel",
      "state": {
       "_options_labels": [
        "A development board",
        "An operating system",
        "An open-source project and framework",
        "A Python-based game"
       ],
       "description": " ",
       "index": 0,
       "layout": "IPY_MODEL_3a7ff6a50867456b93eb7f724edaa07d",
       "style": "IPY_MODEL_ef7a929a49e3496cb332bbd3d3b84f50"
      }
     },
     "9498048ddb8f4b5fa2ad5f742a66b27b": {
      "model_module": "@jupyter-widgets/base",
      "model_module_version": "1.2.0",
      "model_name": "LayoutModel",
      "state": {}
     },
     "94ad24795d0846f79b2444b5d90533ee": {
      "model_module": "@jupyter-widgets/base",
      "model_module_version": "1.2.0",
      "model_name": "LayoutModel",
      "state": {}
     },
     "9564ea12d12a499ca3a9d179b9f9dcf6": {
      "model_module": "@jupyter-widgets/controls",
      "model_module_version": "1.5.0",
      "model_name": "DescriptionStyleModel",
      "state": {
       "description_width": ""
      }
     },
     "95cb8857edc24d1b8cad029dda021422": {
      "model_module": "@jupyter-widgets/controls",
      "model_module_version": "1.5.0",
      "model_name": "HTMLModel",
      "state": {
       "layout": "IPY_MODEL_0719f70f5255475dac3b55ae58502a9a",
       "style": "IPY_MODEL_f8f23b859e0c44adbdf92164136128fc",
       "value": "<h2>Which of the following environments is used with PYNQ?"
      }
     },
     "96276a34c4c849cf9197de25c47b322a": {
      "model_module": "@jupyter-widgets/base",
      "model_module_version": "1.2.0",
      "model_name": "LayoutModel",
      "state": {}
     },
     "98b244521f2f40149a31c9a60821d705": {
      "model_module": "@jupyter-widgets/base",
      "model_module_version": "1.2.0",
      "model_name": "LayoutModel",
      "state": {}
     },
     "995087134d61432b967088c9b26185c7": {
      "model_module": "@jupyter-widgets/controls",
      "model_module_version": "1.5.0",
      "model_name": "RadioButtonsModel",
      "state": {
       "_options_labels": [
        "APIs",
        "Layers",
        "Notebooks",
        "Overlays"
       ],
       "description": " ",
       "index": 0,
       "layout": "IPY_MODEL_6a09293f1a4c4f8d814ae680ea1ac6e4",
       "style": "IPY_MODEL_1af582327ca14884b36944b1961b37e5"
      }
     },
     "9a007ddde1664aa4a484a3ab3b7f34e1": {
      "model_module": "@jupyter-widgets/controls",
      "model_module_version": "1.5.0",
      "model_name": "HTMLModel",
      "state": {
       "layout": "IPY_MODEL_83e1d0529470438682f7d3f25410d742",
       "style": "IPY_MODEL_736f4cd58834402e80a530d065dfd784",
       "value": "<h2>What is PYNQ?"
      }
     },
     "9a2f6609aee5451c875c65e9dc67968f": {
      "model_module": "@jupyter-widgets/controls",
      "model_module_version": "1.5.0",
      "model_name": "HTMLModel",
      "state": {
       "layout": "IPY_MODEL_c3387feecb8e418bb281d8544b3e24d6",
       "style": "IPY_MODEL_2dd9489b0ef74b28a78aabc61fa029d4",
       "value": "<h2>With PYNQ, hardware system designs are referred to as:"
      }
     },
     "9afd8e6ab6134cbf8a932bdac59f947f": {
      "model_module": "@jupyter-widgets/controls",
      "model_module_version": "1.5.0",
      "model_name": "DescriptionStyleModel",
      "state": {
       "description_width": ""
      }
     },
     "9e5e4e85e73d4da4b7ae269a9808e108": {
      "model_module": "@jupyter-widgets/controls",
      "model_module_version": "1.5.0",
      "model_name": "HTMLModel",
      "state": {
       "layout": "IPY_MODEL_a85f630f83184b4ea9d4de45e3a1c5bd",
       "style": "IPY_MODEL_174f52bbdf654d91b0d0caa2f72ee7a7",
       "value": "<h2>What set of files are necessary to deploy a PYNQ system?"
      }
     },
     "9ec93e9c79f945e5bedca09f978c0d97": {
      "model_module": "@jupyter-widgets/base",
      "model_module_version": "1.2.0",
      "model_name": "LayoutModel",
      "state": {
       "width": "max-content"
      }
     },
     "a0d83f24337447029c1644fc4be31c33": {
      "model_module": "@jupyter-widgets/controls",
      "model_module_version": "1.5.0",
      "model_name": "HTMLModel",
      "state": {
       "layout": "IPY_MODEL_08ca8d8831bd42e6ae7c53c4d6db3bb7",
       "style": "IPY_MODEL_cd6260e77da14a8cbd11f82f67e71d60",
       "value": "<h2>With PYNQ, hardware system designs are referred to as:"
      }
     },
     "a0e6d417a86f4c0ea69b9a1ecfcf9727": {
      "model_module": "@jupyter-widgets/base",
      "model_module_version": "1.2.0",
      "model_name": "LayoutModel",
      "state": {}
     },
     "a1a4a883321947a99eb96db6594c08d2": {
      "model_module": "@jupyter-widgets/controls",
      "model_module_version": "1.5.0",
      "model_name": "VBoxModel",
      "state": {
       "_dom_classes": [
        "widget-interact"
       ],
       "children": [
        "IPY_MODEL_c478284395a64a9e994db5ea235d502b",
        "IPY_MODEL_37b0efdbf5b94e54bd7e20ac53ff829e"
       ],
       "layout": "IPY_MODEL_e6740f55526f48c1a6abde1f69c8f0f4"
      }
     },
     "a297a296f5a04fd9a3a45b08ccb0e0e0": {
      "model_module": "@jupyter-widgets/controls",
      "model_module_version": "1.5.0",
      "model_name": "VBoxModel",
      "state": {
       "_dom_classes": [
        "widget-interact"
       ],
       "children": [
        "IPY_MODEL_d8cb0d6692be4edfac92d4c4654a1818",
        "IPY_MODEL_524311d22ac24e45bd84c02eae4fd5fc"
       ],
       "layout": "IPY_MODEL_e3a7bdb1b7eb405ebc7ed10e97cd9e68"
      }
     },
     "a333a7e82d5b4d1bad7d27f615675995": {
      "model_module": "@jupyter-widgets/controls",
      "model_module_version": "1.5.0",
      "model_name": "RadioButtonsModel",
      "state": {
       "_options_labels": [
        "PyCharm",
        "Jupyter Notebooks",
        "Visual Studio",
        "BlueJ"
       ],
       "description": " ",
       "index": 0,
       "layout": "IPY_MODEL_38778457cb834acd98f1f8ee1a75638b",
       "style": "IPY_MODEL_278c76e8b9064d4b908366a02e1098f6"
      }
     },
     "a49f0ae0b7374f05807d47fed528a0a3": {
      "model_module": "@jupyter-widgets/base",
      "model_module_version": "1.2.0",
      "model_name": "LayoutModel",
      "state": {}
     },
     "a6b7c5fdad1f4499ae78ba482fbda036": {
      "model_module": "@jupyter-widgets/base",
      "model_module_version": "1.2.0",
      "model_name": "LayoutModel",
      "state": {}
     },
     "a76114a5164141e5a77279344d954cf6": {
      "model_module": "@jupyter-widgets/controls",
      "model_module_version": "1.5.0",
      "model_name": "DescriptionStyleModel",
      "state": {
       "description_width": ""
      }
     },
     "a85f630f83184b4ea9d4de45e3a1c5bd": {
      "model_module": "@jupyter-widgets/base",
      "model_module_version": "1.2.0",
      "model_name": "LayoutModel",
      "state": {}
     },
     "a9d1305c35d148258b3bca19994c5435": {
      "model_module": "@jupyter-widgets/controls",
      "model_module_version": "1.5.0",
      "model_name": "DescriptionStyleModel",
      "state": {
       "description_width": ""
      }
     },
     "ab6c7cf915c746a98560770c1bab5974": {
      "model_module": "@jupyter-widgets/controls",
      "model_module_version": "1.5.0",
      "model_name": "HTMLModel",
      "state": {
       "layout": "IPY_MODEL_e5b685878ab840999d5f92c3ce138e3a",
       "style": "IPY_MODEL_8a71d1f872114e8883b7a6acdbdd61fe",
       "value": "<h2>What is PYNQ?"
      }
     },
     "ab87d6e27424443a8020bcb02dc199fc": {
      "model_module": "@jupyter-widgets/controls",
      "model_module_version": "1.5.0",
      "model_name": "DescriptionStyleModel",
      "state": {
       "description_width": ""
      }
     },
     "abdb97edbca44098b1728e4ee9dea801": {
      "model_module": "@jupyter-widgets/controls",
      "model_module_version": "1.5.0",
      "model_name": "RadioButtonsModel",
      "state": {
       "_options_labels": [
        "A development board",
        "An operating system",
        "An open-source project and framework",
        "A Python-based game"
       ],
       "description": " ",
       "index": 2,
       "layout": "IPY_MODEL_37e51c63ee124c879fdacc6ef35d592e",
       "style": "IPY_MODEL_f9d4780669bc45358264c2cbf27dfa6c"
      }
     },
     "aff5e3be03ed4d7cb797c73d5345c28c": {
      "model_module": "@jupyter-widgets/controls",
      "model_module_version": "1.5.0",
      "model_name": "RadioButtonsModel",
      "state": {
       "_options_labels": [
        "Bitstream (*.bit), Hardware Handoff (*.hwh), Jupyter Notebook (*.ipynb)",
        "Bitstream (*.bit), Hardware Handoff (*.hwh), Solution (.sln)",
        "Hardware Handoff (*.hwh), Solution (*.sln), Jupyter Notebook (*ipynb)",
        "Hardware Handoff (*hwh), Java Archive (*.jar), Text (.txt)"
       ],
       "description": " ",
       "index": 0,
       "layout": "IPY_MODEL_670e0f8f9464460c9480dde9e045a509",
       "style": "IPY_MODEL_a9d1305c35d148258b3bca19994c5435"
      }
     },
     "b09c8326e0674ef08e07977eb23ce7ae": {
      "model_module": "@jupyter-widgets/output",
      "model_module_version": "1.0.0",
      "model_name": "OutputModel",
      "state": {
       "layout": "IPY_MODEL_815af6e035fe49179b96e35c6cb38c57",
       "outputs": [
        {
         "data": {
          "text/markdown": "  ",
          "text/plain": "<IPython.core.display.Markdown object>"
         },
         "metadata": {},
         "output_type": "display_data"
        }
       ]
      }
     },
     "b09e0dd269d84a4092f2c1ac6749c163": {
      "model_module": "@jupyter-widgets/controls",
      "model_module_version": "1.5.0",
      "model_name": "VBoxModel",
      "state": {
       "_dom_classes": [
        "widget-interact"
       ],
       "children": [
        "IPY_MODEL_46583ec4fec6490db7e11d2a71c03d75",
        "IPY_MODEL_b09c8326e0674ef08e07977eb23ce7ae"
       ],
       "layout": "IPY_MODEL_c63fae77aba746618da6161eabec60fe"
      }
     },
     "b1b99955d07e42cda0859a8a016b2665": {
      "model_module": "@jupyter-widgets/controls",
      "model_module_version": "1.5.0",
      "model_name": "VBoxModel",
      "state": {
       "_dom_classes": [
        "widget-interact"
       ],
       "children": [
        "IPY_MODEL_995087134d61432b967088c9b26185c7",
        "IPY_MODEL_27e38737d30e4d54ab51cc5a51b93d75"
       ],
       "layout": "IPY_MODEL_50ad1d60239844ff973651b062c119bc"
      }
     },
     "b274f9ca33b444fd9a449ea3f6ba9d2c": {
      "model_module": "@jupyter-widgets/base",
      "model_module_version": "1.2.0",
      "model_name": "LayoutModel",
      "state": {}
     },
     "b31c0443c4804b2b8a80e8d3a4c4aa64": {
      "model_module": "@jupyter-widgets/output",
      "model_module_version": "1.0.0",
      "model_name": "OutputModel",
      "state": {
       "layout": "IPY_MODEL_9498048ddb8f4b5fa2ad5f742a66b27b",
       "outputs": [
        {
         "data": {
          "text/markdown": "  ",
          "text/plain": "<IPython.core.display.Markdown object>"
         },
         "metadata": {},
         "output_type": "display_data"
        }
       ]
      }
     },
     "b37aec85a05a46d299a49303cf6920d7": {
      "model_module": "@jupyter-widgets/base",
      "model_module_version": "1.2.0",
      "model_name": "LayoutModel",
      "state": {
       "width": "max-content"
      }
     },
     "b455ca09b9624b5aa7a41c2375a0f930": {
      "model_module": "@jupyter-widgets/controls",
      "model_module_version": "1.5.0",
      "model_name": "RadioButtonsModel",
      "state": {
       "_options_labels": [
        "A development board",
        "An operating system",
        "An open-source project and framework",
        "A Python-based game"
       ],
       "description": " ",
       "index": 0,
       "layout": "IPY_MODEL_5b44a777ca7a4a61b01d5deac012185d",
       "style": "IPY_MODEL_2b11bd8ed0f14f609e436f01843567b1"
      }
     },
     "b605eccb3ddb49db8697503e389d6cba": {
      "model_module": "@jupyter-widgets/base",
      "model_module_version": "1.2.0",
      "model_name": "LayoutModel",
      "state": {
       "width": "max-content"
      }
     },
     "b77de2e91fca48cbbf27bd71b5960dc7": {
      "model_module": "@jupyter-widgets/controls",
      "model_module_version": "1.5.0",
      "model_name": "DescriptionStyleModel",
      "state": {
       "description_width": ""
      }
     },
     "b878e733e0b14d9d96147717f51b2b67": {
      "model_module": "@jupyter-widgets/base",
      "model_module_version": "1.2.0",
      "model_name": "LayoutModel",
      "state": {
       "width": "max-content"
      }
     },
     "b90a78db0dec4527b359ee4416892d07": {
      "model_module": "@jupyter-widgets/base",
      "model_module_version": "1.2.0",
      "model_name": "LayoutModel",
      "state": {}
     },
     "bbaefa7df76d41bd97fb7c8247f23902": {
      "model_module": "@jupyter-widgets/base",
      "model_module_version": "1.2.0",
      "model_name": "LayoutModel",
      "state": {}
     },
     "bc5afc218991488ca3e22dc7b0fc4226": {
      "model_module": "@jupyter-widgets/base",
      "model_module_version": "1.2.0",
      "model_name": "LayoutModel",
      "state": {}
     },
     "bdee80c7e05b44dd97bc2f3a97e762ff": {
      "model_module": "@jupyter-widgets/base",
      "model_module_version": "1.2.0",
      "model_name": "LayoutModel",
      "state": {}
     },
     "bef2af64fb6141e18b8cfe6623cad727": {
      "model_module": "@jupyter-widgets/base",
      "model_module_version": "1.2.0",
      "model_name": "LayoutModel",
      "state": {}
     },
     "bfcaf453702e495c832e0a8b1b8ac6f3": {
      "model_module": "@jupyter-widgets/controls",
      "model_module_version": "1.5.0",
      "model_name": "DescriptionStyleModel",
      "state": {
       "description_width": ""
      }
     },
     "c3387feecb8e418bb281d8544b3e24d6": {
      "model_module": "@jupyter-widgets/base",
      "model_module_version": "1.2.0",
      "model_name": "LayoutModel",
      "state": {}
     },
     "c41b4bad7a8d4ebb8a49cabf9d0397f2": {
      "model_module": "@jupyter-widgets/base",
      "model_module_version": "1.2.0",
      "model_name": "LayoutModel",
      "state": {}
     },
     "c478284395a64a9e994db5ea235d502b": {
      "model_module": "@jupyter-widgets/controls",
      "model_module_version": "1.5.0",
      "model_name": "RadioButtonsModel",
      "state": {
       "_options_labels": [
        "APIs",
        "Layers",
        "Notebooks",
        "Overlays"
       ],
       "description": " ",
       "index": 0,
       "layout": "IPY_MODEL_22168330ec3849fdb37f1855ea7ded96",
       "style": "IPY_MODEL_6740f6578101449589028862276f765a"
      }
     },
     "c55fcc8e39014a5f8c24e269494b2d4b": {
      "model_module": "@jupyter-widgets/base",
      "model_module_version": "1.2.0",
      "model_name": "LayoutModel",
      "state": {}
     },
     "c57ba16b0f2349688a9d1091bc3cc4df": {
      "model_module": "@jupyter-widgets/controls",
      "model_module_version": "1.5.0",
      "model_name": "VBoxModel",
      "state": {
       "children": [
        "IPY_MODEL_9e5e4e85e73d4da4b7ae269a9808e108",
        "IPY_MODEL_f63ed4b1e07248ebabb940832760059d"
       ],
       "layout": "IPY_MODEL_7742a83303884efb9bee788631bce66f"
      }
     },
     "c63fae77aba746618da6161eabec60fe": {
      "model_module": "@jupyter-widgets/base",
      "model_module_version": "1.2.0",
      "model_name": "LayoutModel",
      "state": {}
     },
     "c81d02bbd22646baa4ce098cdbb86478": {
      "model_module": "@jupyter-widgets/controls",
      "model_module_version": "1.5.0",
      "model_name": "DescriptionStyleModel",
      "state": {
       "description_width": ""
      }
     },
     "c9026cb4c0fa4573b525466892d224fb": {
      "model_module": "@jupyter-widgets/controls",
      "model_module_version": "1.5.0",
      "model_name": "RadioButtonsModel",
      "state": {
       "_options_labels": [
        "PyCharm",
        "Jupyter Notebooks",
        "Visual Studio",
        "BlueJ"
       ],
       "description": " ",
       "index": 3,
       "layout": "IPY_MODEL_16cd8b6502a54f43a2e9b492006b419e",
       "style": "IPY_MODEL_4e70418ea01d4d74b5f9bda392ab6881"
      }
     },
     "cbde2e01067440c788bc6bb5a9eabf7d": {
      "model_module": "@jupyter-widgets/controls",
      "model_module_version": "1.5.0",
      "model_name": "DescriptionStyleModel",
      "state": {
       "description_width": ""
      }
     },
     "cc4f67954b36476cade55c98e2530365": {
      "model_module": "@jupyter-widgets/controls",
      "model_module_version": "1.5.0",
      "model_name": "DescriptionStyleModel",
      "state": {
       "description_width": ""
      }
     },
     "ccfb67f2519943d38baec3c0646e830c": {
      "model_module": "@jupyter-widgets/controls",
      "model_module_version": "1.5.0",
      "model_name": "HTMLModel",
      "state": {
       "layout": "IPY_MODEL_ee23db9931f44fd59b199ab8b6238f59",
       "style": "IPY_MODEL_f78286a38423466d9f2e4149005bdba6",
       "value": "<h2>What set of files are necessary to deploy a PYNQ system?"
      }
     },
     "cd6260e77da14a8cbd11f82f67e71d60": {
      "model_module": "@jupyter-widgets/controls",
      "model_module_version": "1.5.0",
      "model_name": "DescriptionStyleModel",
      "state": {
       "description_width": ""
      }
     },
     "cd887ea344ec4b3aa5e075f32dee668b": {
      "model_module": "@jupyter-widgets/base",
      "model_module_version": "1.2.0",
      "model_name": "LayoutModel",
      "state": {}
     },
     "d30c308d876342f8b209004dd6e33fd1": {
      "model_module": "@jupyter-widgets/base",
      "model_module_version": "1.2.0",
      "model_name": "LayoutModel",
      "state": {}
     },
     "d31f2949e05f4d94850f4a34081c5fcf": {
      "model_module": "@jupyter-widgets/controls",
      "model_module_version": "1.5.0",
      "model_name": "VBoxModel",
      "state": {
       "_dom_classes": [
        "widget-interact"
       ],
       "children": [
        "IPY_MODEL_abdb97edbca44098b1728e4ee9dea801",
        "IPY_MODEL_2ae01595ec63448caff1306fab2e8af7"
       ],
       "layout": "IPY_MODEL_c41b4bad7a8d4ebb8a49cabf9d0397f2"
      }
     },
     "d846d2747243410793bc9e163fe76436": {
      "model_module": "@jupyter-widgets/base",
      "model_module_version": "1.2.0",
      "model_name": "LayoutModel",
      "state": {
       "width": "max-content"
      }
     },
     "d8cb0d6692be4edfac92d4c4654a1818": {
      "model_module": "@jupyter-widgets/controls",
      "model_module_version": "1.5.0",
      "model_name": "RadioButtonsModel",
      "state": {
       "_options_labels": [
        "Via Petalinux HDF file",
        "Via Petalinux BOOT.BIN file",
        "Via Petalinux BSP file",
        "Via Petalinux image.ub"
       ],
       "description": " ",
       "index": 0,
       "layout": "IPY_MODEL_b605eccb3ddb49db8697503e389d6cba",
       "style": "IPY_MODEL_9afd8e6ab6134cbf8a932bdac59f947f"
      }
     },
     "d907a25e7b1e4964bd181b6ea752a6fd": {
      "model_module": "@jupyter-widgets/base",
      "model_module_version": "1.2.0",
      "model_name": "LayoutModel",
      "state": {}
     },
     "d931f08486124ec2a2b5483a748fc53a": {
      "model_module": "@jupyter-widgets/controls",
      "model_module_version": "1.5.0",
      "model_name": "DescriptionStyleModel",
      "state": {
       "description_width": ""
      }
     },
     "d97f613d794c4b92a3a0d10bfa1177f5": {
      "model_module": "@jupyter-widgets/controls",
      "model_module_version": "1.5.0",
      "model_name": "RadioButtonsModel",
      "state": {
       "_options_labels": [
        "Via Petalinux HDF file",
        "Via Petalinux BOOT.BIN file",
        "Via Petalinux BSP file",
        "Via Petalinux image.ub"
       ],
       "description": " ",
       "index": 0,
       "layout": "IPY_MODEL_2f845297321a4ada8c1965130166f5a3",
       "style": "IPY_MODEL_4e3b4f2c5b524c9ea3db56555d010863"
      }
     },
     "dbeb574725bc4d548172a1ebfa67cae6": {
      "model_module": "@jupyter-widgets/controls",
      "model_module_version": "1.5.0",
      "model_name": "VBoxModel",
      "state": {
       "children": [
        "IPY_MODEL_5115e693b99c4b2e8fc588da80f9e126",
        "IPY_MODEL_0c6aca20c36f4fbeb007ac62e84b4b59"
       ],
       "layout": "IPY_MODEL_68934bc393704b7c94ea2d26ccb3d915"
      }
     },
     "e3a7bdb1b7eb405ebc7ed10e97cd9e68": {
      "model_module": "@jupyter-widgets/base",
      "model_module_version": "1.2.0",
      "model_name": "LayoutModel",
      "state": {}
     },
     "e4c73589081b4214b4b4888fe5c01afc": {
      "model_module": "@jupyter-widgets/base",
      "model_module_version": "1.2.0",
      "model_name": "LayoutModel",
      "state": {}
     },
     "e5b685878ab840999d5f92c3ce138e3a": {
      "model_module": "@jupyter-widgets/base",
      "model_module_version": "1.2.0",
      "model_name": "LayoutModel",
      "state": {}
     },
     "e5bb49e2526d4854ae8f7582e2cfe2b8": {
      "model_module": "@jupyter-widgets/base",
      "model_module_version": "1.2.0",
      "model_name": "LayoutModel",
      "state": {}
     },
     "e5dab2fd24f94ba98d96e901d555e0f1": {
      "model_module": "@jupyter-widgets/output",
      "model_module_version": "1.0.0",
      "model_name": "OutputModel",
      "state": {
       "layout": "IPY_MODEL_bdee80c7e05b44dd97bc2f3a97e762ff",
       "outputs": [
        {
         "data": {
          "text/markdown": "  ",
          "text/plain": "<IPython.core.display.Markdown object>"
         },
         "metadata": {},
         "output_type": "display_data"
        }
       ]
      }
     },
     "e6740f55526f48c1a6abde1f69c8f0f4": {
      "model_module": "@jupyter-widgets/base",
      "model_module_version": "1.2.0",
      "model_name": "LayoutModel",
      "state": {}
     },
     "e78219fc995746b79e7471789ab728e2": {
      "model_module": "@jupyter-widgets/base",
      "model_module_version": "1.2.0",
      "model_name": "LayoutModel",
      "state": {}
     },
     "eae5adfebd784ee39e8d938508786500": {
      "model_module": "@jupyter-widgets/output",
      "model_module_version": "1.0.0",
      "model_name": "OutputModel",
      "state": {
       "layout": "IPY_MODEL_8a9d48ae9f9041f9a82c8cd4026bd322",
       "outputs": [
        {
         "data": {
          "text/markdown": "  ",
          "text/plain": "<IPython.core.display.Markdown object>"
         },
         "metadata": {},
         "output_type": "display_data"
        }
       ]
      }
     },
     "ebde0ef085fe4b9e84518f99755ab180": {
      "model_module": "@jupyter-widgets/base",
      "model_module_version": "1.2.0",
      "model_name": "LayoutModel",
      "state": {}
     },
     "eda565859e644837a61a7092167b8f50": {
      "model_module": "@jupyter-widgets/base",
      "model_module_version": "1.2.0",
      "model_name": "LayoutModel",
      "state": {}
     },
     "ee23db9931f44fd59b199ab8b6238f59": {
      "model_module": "@jupyter-widgets/base",
      "model_module_version": "1.2.0",
      "model_name": "LayoutModel",
      "state": {}
     },
     "ef37b2b7a6024e04beaa522542cf3b5a": {
      "model_module": "@jupyter-widgets/output",
      "model_module_version": "1.0.0",
      "model_name": "OutputModel",
      "state": {
       "layout": "IPY_MODEL_5e64a52daf52497fbce95add5f1f90da",
       "outputs": [
        {
         "data": {
          "text/markdown": "  ",
          "text/plain": "<IPython.core.display.Markdown object>"
         },
         "metadata": {},
         "output_type": "display_data"
        }
       ]
      }
     },
     "ef7a929a49e3496cb332bbd3d3b84f50": {
      "model_module": "@jupyter-widgets/controls",
      "model_module_version": "1.5.0",
      "model_name": "DescriptionStyleModel",
      "state": {
       "description_width": ""
      }
     },
     "ef9690dc784b43bc827a6e8316861126": {
      "model_module": "@jupyter-widgets/controls",
      "model_module_version": "1.5.0",
      "model_name": "RadioButtonsModel",
      "state": {
       "_options_labels": [
        "Bitstream (*.bit), Hardware Handoff (*.hwh), Jupyter Notebook (*.ipynb)",
        "Bitstream (*.bit), Hardware Handoff (*.hwh), Solution (.sln)",
        "Hardware Handoff (*.hwh), Solution (*.sln), Jupyter Notebook (*ipynb)",
        "Hardware Handoff (*hwh), Java Archive (*.jar), Text (.txt)"
       ],
       "description": " ",
       "index": 0,
       "layout": "IPY_MODEL_d846d2747243410793bc9e163fe76436",
       "style": "IPY_MODEL_b77de2e91fca48cbbf27bd71b5960dc7"
      }
     },
     "efc68b16a6184e89bf59c0c08dd9918a": {
      "model_module": "@jupyter-widgets/base",
      "model_module_version": "1.2.0",
      "model_name": "LayoutModel",
      "state": {
       "width": "max-content"
      }
     },
     "effa69d1a53a4304b12ba71e9c744670": {
      "model_module": "@jupyter-widgets/controls",
      "model_module_version": "1.5.0",
      "model_name": "RadioButtonsModel",
      "state": {
       "_options_labels": [
        "FPGA, RPi, Arduino",
        "FPGA, Arduino, RPi",
        "Arduino, RPi, FPGA",
        "RPi, FPGA, Arduino"
       ],
       "description": " ",
       "index": 0,
       "layout": "IPY_MODEL_efc68b16a6184e89bf59c0c08dd9918a",
       "style": "IPY_MODEL_13155541590c46048c4337e5dfa31281"
      }
     },
     "f62ba18986c0491190aeb67ab34ce4a2": {
      "model_module": "@jupyter-widgets/base",
      "model_module_version": "1.2.0",
      "model_name": "LayoutModel",
      "state": {}
     },
     "f63ed4b1e07248ebabb940832760059d": {
      "model_module": "@jupyter-widgets/controls",
      "model_module_version": "1.5.0",
      "model_name": "VBoxModel",
      "state": {
       "_dom_classes": [
        "widget-interact"
       ],
       "children": [
        "IPY_MODEL_ef9690dc784b43bc827a6e8316861126",
        "IPY_MODEL_0b190f56a1df49b19ff698615e543a7e"
       ],
       "layout": "IPY_MODEL_d30c308d876342f8b209004dd6e33fd1"
      }
     },
     "f78286a38423466d9f2e4149005bdba6": {
      "model_module": "@jupyter-widgets/controls",
      "model_module_version": "1.5.0",
      "model_name": "DescriptionStyleModel",
      "state": {
       "description_width": ""
      }
     },
     "f8f23b859e0c44adbdf92164136128fc": {
      "model_module": "@jupyter-widgets/controls",
      "model_module_version": "1.5.0",
      "model_name": "DescriptionStyleModel",
      "state": {
       "description_width": ""
      }
     },
     "f9d4780669bc45358264c2cbf27dfa6c": {
      "model_module": "@jupyter-widgets/controls",
      "model_module_version": "1.5.0",
      "model_name": "DescriptionStyleModel",
      "state": {
       "description_width": ""
      }
     },
     "fb88786a8d0c47c581c07150bdb4d035": {
      "model_module": "@jupyter-widgets/base",
      "model_module_version": "1.2.0",
      "model_name": "LayoutModel",
      "state": {}
     },
     "fd8f7e5adabd4e26a6b7e197e791b482": {
      "model_module": "@jupyter-widgets/controls",
      "model_module_version": "1.5.0",
      "model_name": "DescriptionStyleModel",
      "state": {
       "description_width": ""
      }
     },
     "ff1f457b5dab45e2857c1a2f78e1b540": {
      "model_module": "@jupyter-widgets/controls",
      "model_module_version": "1.5.0",
      "model_name": "VBoxModel",
      "state": {
       "_dom_classes": [
        "widget-interact"
       ],
       "children": [
        "IPY_MODEL_3833505b9f05446bb79d77b3c953055f",
        "IPY_MODEL_ef37b2b7a6024e04beaa522542cf3b5a"
       ],
       "layout": "IPY_MODEL_94ad24795d0846f79b2444b5d90533ee"
      }
     }
    },
    "version_major": 2,
    "version_minor": 0
   }
  }
 },
 "nbformat": 4,
 "nbformat_minor": 4
}
